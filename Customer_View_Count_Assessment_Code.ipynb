{
  "nbformat": 4,
  "nbformat_minor": 0,
  "metadata": {
    "colab": {
      "provenance": [],
      "collapsed_sections": [
        "0oxNnNYduxMN"
      ],
      "authorship_tag": "ABX9TyMKZupFzhmIasrzv28+1xMl",
      "include_colab_link": true
    },
    "kernelspec": {
      "name": "python3",
      "display_name": "Python 3"
    },
    "language_info": {
      "name": "python"
    }
  },
  "cells": [
    {
      "cell_type": "markdown",
      "metadata": {
        "id": "view-in-github",
        "colab_type": "text"
      },
      "source": [
        "<a href=\"https://colab.research.google.com/github/yimeiwen/CustomerViewingCountCluster/blob/main/Customer_View_Count_Assessment_Code.ipynb\" target=\"_parent\"><img src=\"https://colab.research.google.com/assets/colab-badge.svg\" alt=\"Open In Colab\"/></a>"
      ]
    },
    {
      "cell_type": "markdown",
      "source": [
        "# Cluster Modeling for Viewing Count Case Study\n"
      ],
      "metadata": {
        "id": "PYidXrDJZm7s"
      }
    },
    {
      "cell_type": "markdown",
      "source": [
        "Summary: A cluster model is built for the dataset to classify CTV ads audiences\n",
        "\n",
        "\n",
        "> Disclaimer: The gender, age and race classifiaction in the project discussed below is for the sole purpose of better understanding the data and providing business insights, I comply with applicable Federal civil rights laws and do not discriminate on the basis of race, color, national origin, age, disability, or sex.\n",
        "\n"
      ],
      "metadata": {
        "id": "FwutHHwNBNOQ"
      }
    },
    {
      "cell_type": "markdown",
      "source": [
        "Import library and packages for data processing and plotting"
      ],
      "metadata": {
        "id": "bfrCdq1bAlic"
      }
    },
    {
      "cell_type": "code",
      "source": [
        "import pandas as pd\n",
        "import numpy as np\n",
        "import matplotlib.pyplot as plt\n",
        "import seaborn as sns"
      ],
      "metadata": {
        "id": "qSfbbdeaa5GP"
      },
      "execution_count": null,
      "outputs": []
    },
    {
      "cell_type": "code",
      "source": [
        "df=pd.read_csv('ctv_viewing_events.csv')"
      ],
      "metadata": {
        "id": "09GgcAOmc01e"
      },
      "execution_count": null,
      "outputs": []
    },
    {
      "cell_type": "markdown",
      "source": [
        "##Data Interpretation\n",
        "Gathering Information of the CSV file"
      ],
      "metadata": {
        "id": "-Vm5MdtN3hbF"
      }
    },
    {
      "cell_type": "code",
      "source": [
        "df.head()"
      ],
      "metadata": {
        "colab": {
          "base_uri": "https://localhost:8080/",
          "height": 357
        },
        "id": "J7OPseqJc07i",
        "outputId": "bb915ce0-6533-4d46-b39e-a2d40de43b15"
      },
      "execution_count": null,
      "outputs": [
        {
          "output_type": "execute_result",
          "data": {
            "text/plain": [
              "    data_date         utc_time  household_id  person_id gender age_bucket  \\\n",
              "0  11/27/2021  11/28/2021 6:19            38        196      M      50_54   \n",
              "1  11/30/2021   12/1/2021 2:01           338          3      M      50_54   \n",
              "2  11/30/2021   12/1/2021 2:42           338          3      M      50_54   \n",
              "3   12/3/2021  12/3/2021 19:42           142          6      F      25_29   \n",
              "4   12/9/2021  12/9/2021 18:41           106        110      M      35_39   \n",
              "\n",
              "      demo   race  channel_id device_type  genre_id        daypart_id  \n",
              "0  M:50_54  White           2     Fire OS         5  Non_PrimeTime_WE  \n",
              "1  M:50_54  White           2     Fire OS         3      PrimeTime_WD  \n",
              "2  M:50_54  White           2     Fire OS         3      PrimeTime_WD  \n",
              "3  F:25_29  White           2     Fire OS         4  Non_PrimeTime_WD  \n",
              "4  M:35_39  White           2     Fire OS         3  Non_PrimeTime_WD  "
            ],
            "text/html": [
              "\n",
              "  <div id=\"df-6cdf8c22-06df-42fd-adcf-230b2ec8a873\">\n",
              "    <div class=\"colab-df-container\">\n",
              "      <div>\n",
              "<style scoped>\n",
              "    .dataframe tbody tr th:only-of-type {\n",
              "        vertical-align: middle;\n",
              "    }\n",
              "\n",
              "    .dataframe tbody tr th {\n",
              "        vertical-align: top;\n",
              "    }\n",
              "\n",
              "    .dataframe thead th {\n",
              "        text-align: right;\n",
              "    }\n",
              "</style>\n",
              "<table border=\"1\" class=\"dataframe\">\n",
              "  <thead>\n",
              "    <tr style=\"text-align: right;\">\n",
              "      <th></th>\n",
              "      <th>data_date</th>\n",
              "      <th>utc_time</th>\n",
              "      <th>household_id</th>\n",
              "      <th>person_id</th>\n",
              "      <th>gender</th>\n",
              "      <th>age_bucket</th>\n",
              "      <th>demo</th>\n",
              "      <th>race</th>\n",
              "      <th>channel_id</th>\n",
              "      <th>device_type</th>\n",
              "      <th>genre_id</th>\n",
              "      <th>daypart_id</th>\n",
              "    </tr>\n",
              "  </thead>\n",
              "  <tbody>\n",
              "    <tr>\n",
              "      <th>0</th>\n",
              "      <td>11/27/2021</td>\n",
              "      <td>11/28/2021 6:19</td>\n",
              "      <td>38</td>\n",
              "      <td>196</td>\n",
              "      <td>M</td>\n",
              "      <td>50_54</td>\n",
              "      <td>M:50_54</td>\n",
              "      <td>White</td>\n",
              "      <td>2</td>\n",
              "      <td>Fire OS</td>\n",
              "      <td>5</td>\n",
              "      <td>Non_PrimeTime_WE</td>\n",
              "    </tr>\n",
              "    <tr>\n",
              "      <th>1</th>\n",
              "      <td>11/30/2021</td>\n",
              "      <td>12/1/2021 2:01</td>\n",
              "      <td>338</td>\n",
              "      <td>3</td>\n",
              "      <td>M</td>\n",
              "      <td>50_54</td>\n",
              "      <td>M:50_54</td>\n",
              "      <td>White</td>\n",
              "      <td>2</td>\n",
              "      <td>Fire OS</td>\n",
              "      <td>3</td>\n",
              "      <td>PrimeTime_WD</td>\n",
              "    </tr>\n",
              "    <tr>\n",
              "      <th>2</th>\n",
              "      <td>11/30/2021</td>\n",
              "      <td>12/1/2021 2:42</td>\n",
              "      <td>338</td>\n",
              "      <td>3</td>\n",
              "      <td>M</td>\n",
              "      <td>50_54</td>\n",
              "      <td>M:50_54</td>\n",
              "      <td>White</td>\n",
              "      <td>2</td>\n",
              "      <td>Fire OS</td>\n",
              "      <td>3</td>\n",
              "      <td>PrimeTime_WD</td>\n",
              "    </tr>\n",
              "    <tr>\n",
              "      <th>3</th>\n",
              "      <td>12/3/2021</td>\n",
              "      <td>12/3/2021 19:42</td>\n",
              "      <td>142</td>\n",
              "      <td>6</td>\n",
              "      <td>F</td>\n",
              "      <td>25_29</td>\n",
              "      <td>F:25_29</td>\n",
              "      <td>White</td>\n",
              "      <td>2</td>\n",
              "      <td>Fire OS</td>\n",
              "      <td>4</td>\n",
              "      <td>Non_PrimeTime_WD</td>\n",
              "    </tr>\n",
              "    <tr>\n",
              "      <th>4</th>\n",
              "      <td>12/9/2021</td>\n",
              "      <td>12/9/2021 18:41</td>\n",
              "      <td>106</td>\n",
              "      <td>110</td>\n",
              "      <td>M</td>\n",
              "      <td>35_39</td>\n",
              "      <td>M:35_39</td>\n",
              "      <td>White</td>\n",
              "      <td>2</td>\n",
              "      <td>Fire OS</td>\n",
              "      <td>3</td>\n",
              "      <td>Non_PrimeTime_WD</td>\n",
              "    </tr>\n",
              "  </tbody>\n",
              "</table>\n",
              "</div>\n",
              "      <button class=\"colab-df-convert\" onclick=\"convertToInteractive('df-6cdf8c22-06df-42fd-adcf-230b2ec8a873')\"\n",
              "              title=\"Convert this dataframe to an interactive table.\"\n",
              "              style=\"display:none;\">\n",
              "        \n",
              "  <svg xmlns=\"http://www.w3.org/2000/svg\" height=\"24px\"viewBox=\"0 0 24 24\"\n",
              "       width=\"24px\">\n",
              "    <path d=\"M0 0h24v24H0V0z\" fill=\"none\"/>\n",
              "    <path d=\"M18.56 5.44l.94 2.06.94-2.06 2.06-.94-2.06-.94-.94-2.06-.94 2.06-2.06.94zm-11 1L8.5 8.5l.94-2.06 2.06-.94-2.06-.94L8.5 2.5l-.94 2.06-2.06.94zm10 10l.94 2.06.94-2.06 2.06-.94-2.06-.94-.94-2.06-.94 2.06-2.06.94z\"/><path d=\"M17.41 7.96l-1.37-1.37c-.4-.4-.92-.59-1.43-.59-.52 0-1.04.2-1.43.59L10.3 9.45l-7.72 7.72c-.78.78-.78 2.05 0 2.83L4 21.41c.39.39.9.59 1.41.59.51 0 1.02-.2 1.41-.59l7.78-7.78 2.81-2.81c.8-.78.8-2.07 0-2.86zM5.41 20L4 18.59l7.72-7.72 1.47 1.35L5.41 20z\"/>\n",
              "  </svg>\n",
              "      </button>\n",
              "      \n",
              "  <style>\n",
              "    .colab-df-container {\n",
              "      display:flex;\n",
              "      flex-wrap:wrap;\n",
              "      gap: 12px;\n",
              "    }\n",
              "\n",
              "    .colab-df-convert {\n",
              "      background-color: #E8F0FE;\n",
              "      border: none;\n",
              "      border-radius: 50%;\n",
              "      cursor: pointer;\n",
              "      display: none;\n",
              "      fill: #1967D2;\n",
              "      height: 32px;\n",
              "      padding: 0 0 0 0;\n",
              "      width: 32px;\n",
              "    }\n",
              "\n",
              "    .colab-df-convert:hover {\n",
              "      background-color: #E2EBFA;\n",
              "      box-shadow: 0px 1px 2px rgba(60, 64, 67, 0.3), 0px 1px 3px 1px rgba(60, 64, 67, 0.15);\n",
              "      fill: #174EA6;\n",
              "    }\n",
              "\n",
              "    [theme=dark] .colab-df-convert {\n",
              "      background-color: #3B4455;\n",
              "      fill: #D2E3FC;\n",
              "    }\n",
              "\n",
              "    [theme=dark] .colab-df-convert:hover {\n",
              "      background-color: #434B5C;\n",
              "      box-shadow: 0px 1px 3px 1px rgba(0, 0, 0, 0.15);\n",
              "      filter: drop-shadow(0px 1px 2px rgba(0, 0, 0, 0.3));\n",
              "      fill: #FFFFFF;\n",
              "    }\n",
              "  </style>\n",
              "\n",
              "      <script>\n",
              "        const buttonEl =\n",
              "          document.querySelector('#df-6cdf8c22-06df-42fd-adcf-230b2ec8a873 button.colab-df-convert');\n",
              "        buttonEl.style.display =\n",
              "          google.colab.kernel.accessAllowed ? 'block' : 'none';\n",
              "\n",
              "        async function convertToInteractive(key) {\n",
              "          const element = document.querySelector('#df-6cdf8c22-06df-42fd-adcf-230b2ec8a873');\n",
              "          const dataTable =\n",
              "            await google.colab.kernel.invokeFunction('convertToInteractive',\n",
              "                                                     [key], {});\n",
              "          if (!dataTable) return;\n",
              "\n",
              "          const docLinkHtml = 'Like what you see? Visit the ' +\n",
              "            '<a target=\"_blank\" href=https://colab.research.google.com/notebooks/data_table.ipynb>data table notebook</a>'\n",
              "            + ' to learn more about interactive tables.';\n",
              "          element.innerHTML = '';\n",
              "          dataTable['output_type'] = 'display_data';\n",
              "          await google.colab.output.renderOutput(dataTable, element);\n",
              "          const docLink = document.createElement('div');\n",
              "          docLink.innerHTML = docLinkHtml;\n",
              "          element.appendChild(docLink);\n",
              "        }\n",
              "      </script>\n",
              "    </div>\n",
              "  </div>\n",
              "  "
            ]
          },
          "metadata": {},
          "execution_count": 3
        }
      ]
    },
    {
      "cell_type": "code",
      "source": [
        "df.info()"
      ],
      "metadata": {
        "colab": {
          "base_uri": "https://localhost:8080/"
        },
        "id": "zy4FkaoAc0_5",
        "outputId": "8b4ec672-78b5-4806-c7d7-4f4015772204"
      },
      "execution_count": null,
      "outputs": [
        {
          "output_type": "stream",
          "name": "stdout",
          "text": [
            "<class 'pandas.core.frame.DataFrame'>\n",
            "RangeIndex: 89074 entries, 0 to 89073\n",
            "Data columns (total 12 columns):\n",
            " #   Column        Non-Null Count  Dtype \n",
            "---  ------        --------------  ----- \n",
            " 0   data_date     89074 non-null  object\n",
            " 1   utc_time      89074 non-null  object\n",
            " 2   household_id  89074 non-null  int64 \n",
            " 3   person_id     89074 non-null  int64 \n",
            " 4   gender        89074 non-null  object\n",
            " 5   age_bucket    89074 non-null  object\n",
            " 6   demo          89074 non-null  object\n",
            " 7   race          89074 non-null  object\n",
            " 8   channel_id    89074 non-null  int64 \n",
            " 9   device_type   89074 non-null  object\n",
            " 10  genre_id      89074 non-null  int64 \n",
            " 11  daypart_id    89074 non-null  object\n",
            "dtypes: int64(4), object(8)\n",
            "memory usage: 8.2+ MB\n"
          ]
        }
      ]
    },
    {
      "cell_type": "code",
      "source": [
        "df.duplicated()\n"
      ],
      "metadata": {
        "colab": {
          "base_uri": "https://localhost:8080/"
        },
        "id": "NcpoQB2dihHS",
        "outputId": "b6ed9db5-00bb-4b7b-f8da-b0b1e55a84e8"
      },
      "execution_count": null,
      "outputs": [
        {
          "output_type": "execute_result",
          "data": {
            "text/plain": [
              "0        False\n",
              "1        False\n",
              "2        False\n",
              "3        False\n",
              "4        False\n",
              "         ...  \n",
              "89069     True\n",
              "89070     True\n",
              "89071     True\n",
              "89072     True\n",
              "89073     True\n",
              "Length: 89074, dtype: bool"
            ]
          },
          "metadata": {},
          "execution_count": 5
        }
      ]
    },
    {
      "cell_type": "code",
      "source": [
        "df2 = df.drop_duplicates(keep='first')"
      ],
      "metadata": {
        "id": "Uwg6ikiaogBA"
      },
      "execution_count": null,
      "outputs": []
    },
    {
      "cell_type": "markdown",
      "source": [
        "# Q1 asked to display distribution of gender, age_bucket and demo across daypart_id and device. Here is to get some idea of daypart_id, age_bucket, demo and device columns before plotting."
      ],
      "metadata": {
        "id": "g8-nMHY-DEfZ"
      }
    },
    {
      "cell_type": "code",
      "source": [
        "df2.daypart_id.unique()"
      ],
      "metadata": {
        "colab": {
          "base_uri": "https://localhost:8080/"
        },
        "id": "YGmjGVyJYNmp",
        "outputId": "cdf5eda8-4bf4-4393-f534-30d15a65b991"
      },
      "execution_count": null,
      "outputs": [
        {
          "output_type": "execute_result",
          "data": {
            "text/plain": [
              "array(['Non_PrimeTime_WE', 'PrimeTime_WD', 'Non_PrimeTime_WD',\n",
              "       'PrimeTime_WE'], dtype=object)"
            ]
          },
          "metadata": {},
          "execution_count": 7
        }
      ]
    },
    {
      "cell_type": "code",
      "source": [
        "df2.describe()\n"
      ],
      "metadata": {
        "colab": {
          "base_uri": "https://localhost:8080/",
          "height": 300
        },
        "id": "TLnFvpcPdPPe",
        "outputId": "6eebcc5d-28a7-421e-cd18-ac3a5f25d5cd"
      },
      "execution_count": null,
      "outputs": [
        {
          "output_type": "execute_result",
          "data": {
            "text/plain": [
              "       household_id     person_id  channel_id      genre_id\n",
              "count  37525.000000  37525.000000     37525.0  37525.000000\n",
              "mean     168.883704    422.882692         2.0      9.337935\n",
              "std       92.266904    220.236772         0.0      5.870606\n",
              "min        1.000000      1.000000         2.0      0.000000\n",
              "25%      101.000000    261.000000         2.0      3.000000\n",
              "50%      147.000000    443.000000         2.0      7.000000\n",
              "75%      249.000000    610.000000         2.0     15.000000\n",
              "max      338.000000    822.000000         2.0     17.000000"
            ],
            "text/html": [
              "\n",
              "  <div id=\"df-59e2e7ab-ad90-4671-b1f1-77aaf368b2b4\">\n",
              "    <div class=\"colab-df-container\">\n",
              "      <div>\n",
              "<style scoped>\n",
              "    .dataframe tbody tr th:only-of-type {\n",
              "        vertical-align: middle;\n",
              "    }\n",
              "\n",
              "    .dataframe tbody tr th {\n",
              "        vertical-align: top;\n",
              "    }\n",
              "\n",
              "    .dataframe thead th {\n",
              "        text-align: right;\n",
              "    }\n",
              "</style>\n",
              "<table border=\"1\" class=\"dataframe\">\n",
              "  <thead>\n",
              "    <tr style=\"text-align: right;\">\n",
              "      <th></th>\n",
              "      <th>household_id</th>\n",
              "      <th>person_id</th>\n",
              "      <th>channel_id</th>\n",
              "      <th>genre_id</th>\n",
              "    </tr>\n",
              "  </thead>\n",
              "  <tbody>\n",
              "    <tr>\n",
              "      <th>count</th>\n",
              "      <td>37525.000000</td>\n",
              "      <td>37525.000000</td>\n",
              "      <td>37525.0</td>\n",
              "      <td>37525.000000</td>\n",
              "    </tr>\n",
              "    <tr>\n",
              "      <th>mean</th>\n",
              "      <td>168.883704</td>\n",
              "      <td>422.882692</td>\n",
              "      <td>2.0</td>\n",
              "      <td>9.337935</td>\n",
              "    </tr>\n",
              "    <tr>\n",
              "      <th>std</th>\n",
              "      <td>92.266904</td>\n",
              "      <td>220.236772</td>\n",
              "      <td>0.0</td>\n",
              "      <td>5.870606</td>\n",
              "    </tr>\n",
              "    <tr>\n",
              "      <th>min</th>\n",
              "      <td>1.000000</td>\n",
              "      <td>1.000000</td>\n",
              "      <td>2.0</td>\n",
              "      <td>0.000000</td>\n",
              "    </tr>\n",
              "    <tr>\n",
              "      <th>25%</th>\n",
              "      <td>101.000000</td>\n",
              "      <td>261.000000</td>\n",
              "      <td>2.0</td>\n",
              "      <td>3.000000</td>\n",
              "    </tr>\n",
              "    <tr>\n",
              "      <th>50%</th>\n",
              "      <td>147.000000</td>\n",
              "      <td>443.000000</td>\n",
              "      <td>2.0</td>\n",
              "      <td>7.000000</td>\n",
              "    </tr>\n",
              "    <tr>\n",
              "      <th>75%</th>\n",
              "      <td>249.000000</td>\n",
              "      <td>610.000000</td>\n",
              "      <td>2.0</td>\n",
              "      <td>15.000000</td>\n",
              "    </tr>\n",
              "    <tr>\n",
              "      <th>max</th>\n",
              "      <td>338.000000</td>\n",
              "      <td>822.000000</td>\n",
              "      <td>2.0</td>\n",
              "      <td>17.000000</td>\n",
              "    </tr>\n",
              "  </tbody>\n",
              "</table>\n",
              "</div>\n",
              "      <button class=\"colab-df-convert\" onclick=\"convertToInteractive('df-59e2e7ab-ad90-4671-b1f1-77aaf368b2b4')\"\n",
              "              title=\"Convert this dataframe to an interactive table.\"\n",
              "              style=\"display:none;\">\n",
              "        \n",
              "  <svg xmlns=\"http://www.w3.org/2000/svg\" height=\"24px\"viewBox=\"0 0 24 24\"\n",
              "       width=\"24px\">\n",
              "    <path d=\"M0 0h24v24H0V0z\" fill=\"none\"/>\n",
              "    <path d=\"M18.56 5.44l.94 2.06.94-2.06 2.06-.94-2.06-.94-.94-2.06-.94 2.06-2.06.94zm-11 1L8.5 8.5l.94-2.06 2.06-.94-2.06-.94L8.5 2.5l-.94 2.06-2.06.94zm10 10l.94 2.06.94-2.06 2.06-.94-2.06-.94-.94-2.06-.94 2.06-2.06.94z\"/><path d=\"M17.41 7.96l-1.37-1.37c-.4-.4-.92-.59-1.43-.59-.52 0-1.04.2-1.43.59L10.3 9.45l-7.72 7.72c-.78.78-.78 2.05 0 2.83L4 21.41c.39.39.9.59 1.41.59.51 0 1.02-.2 1.41-.59l7.78-7.78 2.81-2.81c.8-.78.8-2.07 0-2.86zM5.41 20L4 18.59l7.72-7.72 1.47 1.35L5.41 20z\"/>\n",
              "  </svg>\n",
              "      </button>\n",
              "      \n",
              "  <style>\n",
              "    .colab-df-container {\n",
              "      display:flex;\n",
              "      flex-wrap:wrap;\n",
              "      gap: 12px;\n",
              "    }\n",
              "\n",
              "    .colab-df-convert {\n",
              "      background-color: #E8F0FE;\n",
              "      border: none;\n",
              "      border-radius: 50%;\n",
              "      cursor: pointer;\n",
              "      display: none;\n",
              "      fill: #1967D2;\n",
              "      height: 32px;\n",
              "      padding: 0 0 0 0;\n",
              "      width: 32px;\n",
              "    }\n",
              "\n",
              "    .colab-df-convert:hover {\n",
              "      background-color: #E2EBFA;\n",
              "      box-shadow: 0px 1px 2px rgba(60, 64, 67, 0.3), 0px 1px 3px 1px rgba(60, 64, 67, 0.15);\n",
              "      fill: #174EA6;\n",
              "    }\n",
              "\n",
              "    [theme=dark] .colab-df-convert {\n",
              "      background-color: #3B4455;\n",
              "      fill: #D2E3FC;\n",
              "    }\n",
              "\n",
              "    [theme=dark] .colab-df-convert:hover {\n",
              "      background-color: #434B5C;\n",
              "      box-shadow: 0px 1px 3px 1px rgba(0, 0, 0, 0.15);\n",
              "      filter: drop-shadow(0px 1px 2px rgba(0, 0, 0, 0.3));\n",
              "      fill: #FFFFFF;\n",
              "    }\n",
              "  </style>\n",
              "\n",
              "      <script>\n",
              "        const buttonEl =\n",
              "          document.querySelector('#df-59e2e7ab-ad90-4671-b1f1-77aaf368b2b4 button.colab-df-convert');\n",
              "        buttonEl.style.display =\n",
              "          google.colab.kernel.accessAllowed ? 'block' : 'none';\n",
              "\n",
              "        async function convertToInteractive(key) {\n",
              "          const element = document.querySelector('#df-59e2e7ab-ad90-4671-b1f1-77aaf368b2b4');\n",
              "          const dataTable =\n",
              "            await google.colab.kernel.invokeFunction('convertToInteractive',\n",
              "                                                     [key], {});\n",
              "          if (!dataTable) return;\n",
              "\n",
              "          const docLinkHtml = 'Like what you see? Visit the ' +\n",
              "            '<a target=\"_blank\" href=https://colab.research.google.com/notebooks/data_table.ipynb>data table notebook</a>'\n",
              "            + ' to learn more about interactive tables.';\n",
              "          element.innerHTML = '';\n",
              "          dataTable['output_type'] = 'display_data';\n",
              "          await google.colab.output.renderOutput(dataTable, element);\n",
              "          const docLink = document.createElement('div');\n",
              "          docLink.innerHTML = docLinkHtml;\n",
              "          element.appendChild(docLink);\n",
              "        }\n",
              "      </script>\n",
              "    </div>\n",
              "  </div>\n",
              "  "
            ]
          },
          "metadata": {},
          "execution_count": 8
        }
      ]
    },
    {
      "cell_type": "code",
      "source": [
        "#'age_bucket' column in the original CSV file is not sorted, sort the column first before plotting\n",
        "df2=df2.dropna()\n",
        "df2=df2.sort_values(by=\"age_bucket\") "
      ],
      "metadata": {
        "id": "4aoxbZwL9i-q"
      },
      "execution_count": null,
      "outputs": []
    },
    {
      "cell_type": "code",
      "source": [
        "df2.info()"
      ],
      "metadata": {
        "colab": {
          "base_uri": "https://localhost:8080/"
        },
        "id": "EDrj61SlotNa",
        "outputId": "edf9d64a-7c0c-4e08-ca82-89334f1497bf"
      },
      "execution_count": null,
      "outputs": [
        {
          "output_type": "stream",
          "name": "stdout",
          "text": [
            "<class 'pandas.core.frame.DataFrame'>\n",
            "Int64Index: 37525 entries, 10286 to 11099\n",
            "Data columns (total 12 columns):\n",
            " #   Column        Non-Null Count  Dtype \n",
            "---  ------        --------------  ----- \n",
            " 0   data_date     37525 non-null  object\n",
            " 1   utc_time      37525 non-null  object\n",
            " 2   household_id  37525 non-null  int64 \n",
            " 3   person_id     37525 non-null  int64 \n",
            " 4   gender        37525 non-null  object\n",
            " 5   age_bucket    37525 non-null  object\n",
            " 6   demo          37525 non-null  object\n",
            " 7   race          37525 non-null  object\n",
            " 8   channel_id    37525 non-null  int64 \n",
            " 9   device_type   37525 non-null  object\n",
            " 10  genre_id      37525 non-null  int64 \n",
            " 11  daypart_id    37525 non-null  object\n",
            "dtypes: int64(4), object(8)\n",
            "memory usage: 3.7+ MB\n"
          ]
        }
      ]
    },
    {
      "cell_type": "code",
      "source": [
        "sns.displot(df2, x=\"daypart_id\", hue='gender', alpha=0.9)\n",
        "plt.xticks(rotation=90)\n",
        "plt.show()\n",
        "# for example, Female audience at Non_PrimeTime_WD is above 8000, while Male audience at Non_PrimeTime_WD is below 8000 Count"
      ],
      "metadata": {
        "colab": {
          "base_uri": "https://localhost:8080/",
          "height": 459
        },
        "id": "uTGRyh3caApv",
        "outputId": "e1e28be4-5880-4cee-a5ee-2c74701317e5"
      },
      "execution_count": null,
      "outputs": [
        {
          "output_type": "display_data",
          "data": {
            "text/plain": [
              "<Figure size 404.625x360 with 1 Axes>"
            ],
            "image/png": "[encoded data removed]"
          },
          "metadata": {
            "needs_background": "light"
          }
        }
      ]
    },
    {
      "cell_type": "markdown",
      "source": [
        "#Conclusion from this graph can be: \n",
        "\n",
        "\n",
        "---\n",
        "No matter which daypart_id, it seems there will always be more Female audiences than Male audiences, as Female audiences count bypass Male audiences counts in all 4 different time categories-----if we put ads on CTV platform, we probably will attract more Female buyers than Male buyers assuming they have the same click-conversion rate.\n",
        "Or we may put more Female targeted ads on CTV, such as ads for cosmetic products\n",
        "\n",
        "\n",
        "\n"
      ],
      "metadata": {
        "id": "Jrgzzon1EYWM"
      }
    },
    {
      "cell_type": "code",
      "source": [
        "sns.displot(df2, x=\"daypart_id\", hue='age_bucket',kind='hist', alpha=1)\n",
        "plt.xticks(rotation=90)\n",
        "plt.show()"
      ],
      "metadata": {
        "colab": {
          "base_uri": "https://localhost:8080/",
          "height": 459
        },
        "id": "OEzCkgn67v1F",
        "outputId": "fde904b0-7a94-4b16-b8e2-390bf630c0bb"
      },
      "execution_count": null,
      "outputs": [
        {
          "output_type": "display_data",
          "data": {
            "text/plain": [
              "<Figure size 432.875x360 with 1 Axes>"
            ],
            "image/png": "[encoded data removed]"
          },
          "metadata": {
            "needs_background": "light"
          }
        }
      ]
    },
    {
      "cell_type": "markdown",
      "source": [
        "## Conclusion from this graph can be"
      ],
      "metadata": {
        "id": "Ulx84gQP48k6"
      }
    },
    {
      "cell_type": "markdown",
      "source": [
        "\n",
        "\n",
        "1.   More people view the ads on Non_PrimeTime_WD > Non_PrimeTime_WE > PrimeTime_WD > PrimeTime_WE, but since WD is weekday(5 days), WE is weekend(2 days). It's also intuitive to say 5 days count added together can be higher than 2 days count added together. Dividing total WD counts over 5 and compare with total WE counts over 2 might be helpful to compare each weekday and weekend. The same rule applies to PrimeTime(assuming it's 3 hours), divide total counts of PrimeTime over 3hours to compare with total NonPrimeTime over 21 hours might be helpful.\n",
        "2. People age between 55-64 have the most viewing count at all daypart_id\n",
        "\n",
        "\n"
      ],
      "metadata": {
        "id": "PbYc27158e8Y"
      }
    },
    {
      "cell_type": "code",
      "source": [
        "sns.displot(df2, x=\"demo\")\n",
        "plt.xticks(rotation=90)\n",
        "plt.show()"
      ],
      "metadata": {
        "colab": {
          "base_uri": "https://localhost:8080/",
          "height": 407
        },
        "id": "4TCzY2LWW078",
        "outputId": "41ea37e2-4bb0-4e1f-e7e8-85fc4a0b101c"
      },
      "execution_count": null,
      "outputs": [
        {
          "output_type": "display_data",
          "data": {
            "text/plain": [
              "<Figure size 360x360 with 1 Axes>"
            ],
            "image/png": "[encoded data removed]"
          },
          "metadata": {
            "needs_background": "light"
          }
        }
      ]
    },
    {
      "cell_type": "markdown",
      "source": [
        "#Conclusion from this graph can be: \n"
      ],
      "metadata": {
        "id": "yaR5TSz25gsH"
      }
    },
    {
      "cell_type": "markdown",
      "source": [
        "1. People age from 13 to 24 have the least viewing count.\n",
        "\n",
        "2.  People age above 55 are the largest audience among all viewers.\n",
        "\n",
        "\n"
      ],
      "metadata": {
        "id": "DmghAgzyER6H"
      }
    },
    {
      "cell_type": "markdown",
      "source": [
        "# Q1 Report the distribution of gender, age_bucket and demo across daypart and device independently using histogram plot:"
      ],
      "metadata": {
        "id": "yB4-mu5OMYbF"
      }
    },
    {
      "cell_type": "code",
      "source": [
        "dictionary={'Non_PrimeTime_WD':1,'Non_PrimeTime_WE':2,'PrimeTime_WD':3,'PrimeTime_WE':4}\n",
        "# There are 4 categories in the daypart_id columns, in order to report gender, age_bucket and demo across daypart_id using histogram \n",
        "#Ordinal Encoding was used for the 'daypart_id' column, a new column named 'daypart' contains the same informationas 'daypart_id' column is created\n",
        "#basically using numerical variables instead of categorical variables to represent the same information \n",
        "df2['daypart']=df2['daypart_id'].replace(dictionary)\n",
        "#One Hot encoding was used for the 'device_type' column, a new column named 'device_id' contains the same information as the'device_type\" column is created\n",
        "#using 1 to represent 'Fire OS' device and using 0 to represnt 'Android' device \n",
        "device={'Fire OS':1,'Android':0}\n",
        "df2['device_id']=df2['device_type'].replace(device)"
      ],
      "metadata": {
        "id": "pgPC5Zm6sQ6o"
      },
      "execution_count": null,
      "outputs": []
    },
    {
      "cell_type": "code",
      "source": [
        "df2.info()"
      ],
      "metadata": {
        "colab": {
          "base_uri": "https://localhost:8080/"
        },
        "id": "5d4aIaJV2MHk",
        "outputId": "431ee20a-96be-460a-cfd2-b225e1f9c1dd"
      },
      "execution_count": null,
      "outputs": [
        {
          "output_type": "stream",
          "name": "stdout",
          "text": [
            "<class 'pandas.core.frame.DataFrame'>\n",
            "Int64Index: 37525 entries, 10286 to 11099\n",
            "Data columns (total 14 columns):\n",
            " #   Column        Non-Null Count  Dtype \n",
            "---  ------        --------------  ----- \n",
            " 0   data_date     37525 non-null  object\n",
            " 1   utc_time      37525 non-null  object\n",
            " 2   household_id  37525 non-null  int64 \n",
            " 3   person_id     37525 non-null  int64 \n",
            " 4   gender        37525 non-null  object\n",
            " 5   age_bucket    37525 non-null  object\n",
            " 6   demo          37525 non-null  object\n",
            " 7   race          37525 non-null  object\n",
            " 8   channel_id    37525 non-null  int64 \n",
            " 9   device_type   37525 non-null  object\n",
            " 10  genre_id      37525 non-null  int64 \n",
            " 11  daypart_id    37525 non-null  object\n",
            " 12  daypart       37525 non-null  int64 \n",
            " 13  device_id     37525 non-null  int64 \n",
            "dtypes: int64(6), object(8)\n",
            "memory usage: 5.3+ MB\n"
          ]
        }
      ]
    },
    {
      "cell_type": "code",
      "source": [
        "unique_age=df2.age_bucket.unique()"
      ],
      "metadata": {
        "id": "l211UNdoeQAZ"
      },
      "execution_count": null,
      "outputs": []
    },
    {
      "cell_type": "code",
      "source": [
        "print(unique_age)"
      ],
      "metadata": {
        "colab": {
          "base_uri": "https://localhost:8080/"
        },
        "id": "nLASFLYkkjMw",
        "outputId": "420d1375-78c5-4b11-f4ef-9ac828814f4c"
      },
      "execution_count": null,
      "outputs": [
        {
          "output_type": "stream",
          "name": "stdout",
          "text": [
            "['02_12' '13_17' '18_20' '21_24' '25_29' '30_34' '35_39' '40_44' '45_49'\n",
            " '50_54' '55_64' '65_999']\n"
          ]
        }
      ]
    },
    {
      "cell_type": "code",
      "source": [
        "# dictionary={'Non_PrimeTime_WD':1,'Non_PrimeTime_WE':2,'PrimeTime_WD':3,'PrimeTime_WE':4}\n",
        "label =df2.columns[4] #'gender' column\n",
        "plt.hist(df2[df2['daypart']==1][label],color='red',label='Non_PrimeTime_WD', edgecolor='black')\n",
        "plt.hist(df2[df2['daypart']==2][label],color='blue',label='Non_PrimeTime_WE',edgecolor='black')\n",
        "plt.hist(df2[df2['daypart']==3][label],color='orange',label='PrimeTime_WD',edgecolor='black')\n",
        "plt.hist(df2[df2['daypart']==4][label],color='green',label='PrimeTime_WE',edgecolor='black')\n",
        "plt.title(label)\n",
        "plt.legend()\n",
        "plt.show()"
      ],
      "metadata": {
        "colab": {
          "base_uri": "https://localhost:8080/",
          "height": 281
        },
        "id": "6zcNb9swD5HQ",
        "outputId": "c4c2ad7b-6896-4e0f-bc47-02a798b0bddf"
      },
      "execution_count": null,
      "outputs": [
        {
          "output_type": "display_data",
          "data": {
            "text/plain": [
              "<Figure size 432x288 with 1 Axes>"
            ],
            "image/png": "[encoded data removed]"
          },
          "metadata": {
            "needs_background": "light"
          }
        }
      ]
    },
    {
      "cell_type": "markdown",
      "source": [
        "#Y axis reflects count of each 'daypart_id' for corresponding 'age_bucket'"
      ],
      "metadata": {
        "id": "FEzLMdBcEM7K"
      }
    },
    {
      "cell_type": "code",
      "source": [
        "label =df2.columns[5] #'age_bucket' column\n",
        "\n",
        "plt.hist(df2[df2['daypart']==1][label],color='red',bins=len(unique_age), label='Non_PrimeTime_WD', edgecolor='black')\n",
        "plt.hist(df2[df2['daypart']==2][label],color='blue',bins=len(unique_age),label='Non_PrimeTime_WE',edgecolor='black')\n",
        "plt.hist(df2[df2['daypart']==3][label],color='orange',bins=len(unique_age),label='PrimeTime_WD', edgecolor='black')\n",
        "plt.hist(df2[df2['daypart']==4][label],color='green',bins=len(unique_age),label='PrimeTime_WE', edgecolor='black')\n",
        "plt.title(label)\n",
        "plt.legend()\n",
        "plt.xticks(rotation=90)\n",
        "plt.show()"
      ],
      "metadata": {
        "colab": {
          "base_uri": "https://localhost:8080/",
          "height": 308
        },
        "id": "DFFDuB2hIwTc",
        "outputId": "7ef3fb1d-74b0-424d-c3e6-b787308c4dff"
      },
      "execution_count": null,
      "outputs": [
        {
          "output_type": "display_data",
          "data": {
            "text/plain": [
              "<Figure size 432x288 with 1 Axes>"
            ],
            "image/png": "[encoded data removed]"
          },
          "metadata": {
            "needs_background": "light"
          }
        }
      ]
    },
    {
      "cell_type": "markdown",
      "source": [
        "#Y axis reflects total count of each corresponding 'age_bucket'"
      ],
      "metadata": {
        "id": "cj_Bfwi0ETmL"
      }
    },
    {
      "cell_type": "code",
      "source": [
        "sns.displot(df2, x=\"age_bucket\")\n",
        "plt.xticks(rotation=90)\n"
      ],
      "metadata": {
        "colab": {
          "base_uri": "https://localhost:8080/",
          "height": 430
        },
        "id": "rmDk7UucV4U0",
        "outputId": "499e43ce-b99c-45b8-f44d-b01930783db2"
      },
      "execution_count": null,
      "outputs": [
        {
          "output_type": "execute_result",
          "data": {
            "text/plain": [
              "([0, 1, 2, 3, 4, 5, 6, 7, 8, 9, 10, 11],\n",
              " <a list of 12 Text major ticklabel objects>)"
            ]
          },
          "metadata": {},
          "execution_count": 23
        },
        {
          "output_type": "display_data",
          "data": {
            "text/plain": [
              "<Figure size 360x360 with 1 Axes>"
            ],
            "image/png": "[encoded data removed]"
          },
          "metadata": {
            "needs_background": "light"
          }
        }
      ]
    },
    {
      "cell_type": "code",
      "source": [
        "sns.displot(df2, x=\"age_bucket\", hue='gender')\n",
        "plt.xticks(rotation=90)"
      ],
      "metadata": {
        "colab": {
          "base_uri": "https://localhost:8080/",
          "height": 430
        },
        "id": "qIenbiMYurpi",
        "outputId": "e8dcaf68-bd07-4046-95bb-cb3bad10c144"
      },
      "execution_count": null,
      "outputs": [
        {
          "output_type": "execute_result",
          "data": {
            "text/plain": [
              "([0, 1, 2, 3, 4, 5, 6, 7, 8, 9, 10, 11],\n",
              " <a list of 12 Text major ticklabel objects>)"
            ]
          },
          "metadata": {},
          "execution_count": 24
        },
        {
          "output_type": "display_data",
          "data": {
            "text/plain": [
              "<Figure size 404.625x360 with 1 Axes>"
            ],
            "image/png": "[encoded data removed]"
          },
          "metadata": {
            "needs_background": "light"
          }
        }
      ]
    },
    {
      "cell_type": "markdown",
      "source": [
        "Some observations:\n",
        "\n",
        "1.   Audiences age from 02-12 are more likely to veiw at Non_PrimeTime_WE, while other age groups are more likely to view at Non_PrimeTime_WD\n",
        "2.   Across all age groups, PrimeTime_WE have the least audiences\n",
        "\n"
      ],
      "metadata": {
        "id": "dKBGZAwBN2y6"
      }
    },
    {
      "cell_type": "code",
      "source": [
        "label =df2.columns[6] #'demo' column\n",
        "plt.hist(df2[df2['daypart']==1][label],color='red',bins=2*len(unique_age),label='Non_PrimeTime_WD', edgecolor='black')\n",
        "plt.hist(df2[df2['daypart']==2][label],color='blue',bins=2*len(unique_age),label='Non_PrimeTime_WE',edgecolor='black')\n",
        "plt.hist(df2[df2['daypart']==3][label],color='orange',bins=2*len(unique_age),label='PrimeTime_WD',edgecolor='black')\n",
        "plt.hist(df2[df2['daypart']==4][label],color='green',bins=2*len(unique_age),label='PrimeTime_WE',edgecolor='black')\n",
        "plt.title(label)\n",
        "plt.legend()\n",
        "plt.xticks(rotation=90)\n",
        "plt.show()"
      ],
      "metadata": {
        "colab": {
          "base_uri": "https://localhost:8080/",
          "height": 320
        },
        "id": "kXWD89eVUioC",
        "outputId": "7b440b16-258b-43a9-9375-727c632e5f17"
      },
      "execution_count": null,
      "outputs": [
        {
          "output_type": "display_data",
          "data": {
            "text/plain": [
              "<Figure size 432x288 with 1 Axes>"
            ],
            "image/png": "[encoded data removed]"
          },
          "metadata": {
            "needs_background": "light"
          }
        }
      ]
    },
    {
      "cell_type": "code",
      "source": [
        "df2.device_type.unique()"
      ],
      "metadata": {
        "colab": {
          "base_uri": "https://localhost:8080/"
        },
        "id": "JlKhHCXcYD-7",
        "outputId": "2263982c-dbf7-4a52-9f9e-88003bd76f07"
      },
      "execution_count": null,
      "outputs": [
        {
          "output_type": "execute_result",
          "data": {
            "text/plain": [
              "array(['Fire OS', 'Android'], dtype=object)"
            ]
          },
          "metadata": {},
          "execution_count": 26
        }
      ]
    },
    {
      "cell_type": "code",
      "source": [
        "label =df2.columns[4]\n",
        "plt.hist(df2[df2['device_id']==1][label],color='blue',label='Fire OS',edgecolor='black',alpha=0.7)\n",
        "plt.hist(df2[df2['device_id']==0][label],color='red',label='Android',edgecolor='black',alpha=0.7)\n",
        "plt.title(label)\n",
        "plt.legend()\n",
        "plt.show()"
      ],
      "metadata": {
        "colab": {
          "base_uri": "https://localhost:8080/",
          "height": 281
        },
        "id": "zgHGd62RV_S4",
        "outputId": "cf7443ec-0691-49fb-80ba-8757b0cb3d55"
      },
      "execution_count": null,
      "outputs": [
        {
          "output_type": "display_data",
          "data": {
            "text/plain": [
              "<Figure size 432x288 with 1 Axes>"
            ],
            "image/png": "[encoded data removed]"
          },
          "metadata": {
            "needs_background": "light"
          }
        }
      ]
    },
    {
      "cell_type": "code",
      "source": [
        "label =df2.columns[5]\n",
        "plt.hist(df2[df2['device_id']==1][label],color='blue',bins=len(unique_age),label='Fire OS',edgecolor='black',alpha=0.7)\n",
        "plt.hist(df2[df2['device_id']==0][label],color='red',bins=len(unique_age),label='Android',edgecolor='black',alpha=0.7)\n",
        "plt.title(label)\n",
        "plt.legend()\n",
        "plt.xticks(rotation=90)\n",
        "plt.show()"
      ],
      "metadata": {
        "colab": {
          "base_uri": "https://localhost:8080/",
          "height": 308
        },
        "id": "-niJLfYqWA4d",
        "outputId": "99f478d9-2cea-4af8-f0d9-29af37d98646"
      },
      "execution_count": null,
      "outputs": [
        {
          "output_type": "display_data",
          "data": {
            "text/plain": [
              "<Figure size 432x288 with 1 Axes>"
            ],
            "image/png": "[encoded data removed]"
          },
          "metadata": {
            "needs_background": "light"
          }
        }
      ]
    },
    {
      "cell_type": "code",
      "source": [
        "\n",
        "label =df2.columns[6]\n",
        "plt.hist(df2[df2['device_id']==1][label],color='blue',bins=2*len(unique_age),label='Fire OS',edgecolor='black',alpha=0.7)\n",
        "plt.hist(df2[df2['device_id']==0][label],color='red',bins=2*len(unique_age),label='Android',edgecolor='black',alpha=0.7)\n",
        "plt.title(label)\n",
        "plt.legend()\n",
        "plt.xticks(rotation=90)\n",
        "plt.show()"
      ],
      "metadata": {
        "colab": {
          "base_uri": "https://localhost:8080/",
          "height": 320
        },
        "id": "p_G53lFY_1vb",
        "outputId": "719caa46-289e-47bf-c83e-4fe3dcfff8ad"
      },
      "execution_count": null,
      "outputs": [
        {
          "output_type": "display_data",
          "data": {
            "text/plain": [
              "<Figure size 432x288 with 1 Axes>"
            ],
            "image/png": "[encoded data removed]"
          },
          "metadata": {
            "needs_background": "light"
          }
        }
      ]
    },
    {
      "cell_type": "code",
      "source": [
        "sns.displot(df2, x=\"device_type\")\n"
      ],
      "metadata": {
        "colab": {
          "base_uri": "https://localhost:8080/",
          "height": 386
        },
        "id": "wj2mJQuWFcxs",
        "outputId": "e73e830f-ccfd-42fc-8304-bb7fd0a2c25b"
      },
      "execution_count": null,
      "outputs": [
        {
          "output_type": "execute_result",
          "data": {
            "text/plain": [
              "<seaborn.axisgrid.FacetGrid at 0x7f592ed78d10>"
            ]
          },
          "metadata": {},
          "execution_count": 31
        },
        {
          "output_type": "display_data",
          "data": {
            "text/plain": [
              "<Figure size 360x360 with 1 Axes>"
            ],
            "image/png": "[encoded data removed]"
          },
          "metadata": {
            "needs_background": "light"
          }
        }
      ]
    },
    {
      "cell_type": "markdown",
      "source": [
        "#Observations:\n",
        "*   It's interesting to see only two 'device_type', Apple iOS device is not in the dataset provided.\n",
        "\n",
        "*   More viewing events occurred through Fire OS device than Android device in general, approximately View Count Fire OS:Android=4:1, this trend is constant on gender differences and age differences\n",
        "\n",
        "\n",
        "*   More Female than Male audiences on both device_type \n",
        "\n",
        "\n",
        "\n",
        "\n",
        "\n",
        "\n",
        "\n"
      ],
      "metadata": {
        "id": "0oxNnNYduxMN"
      }
    },
    {
      "cell_type": "markdown",
      "source": [
        "#Q2 Extract the categories from individual features"
      ],
      "metadata": {
        "id": "YD4H3j4GXO-z"
      }
    },
    {
      "cell_type": "markdown",
      "source": [
        "\n",
        "\n",
        "*   'device_type' feature only has 2 categories: Fire OS and Anrdoid\n",
        "\n",
        "*   'daypart_id' feature has 4 categories: Non_PrimeTime_WD,Non_PrimeTime_WE, PrimeTime_WD, PrimeTime_WE\n",
        "\n",
        "*   'age_bucket' feature has 12 categories: ['02_12' '13_17' '18_20' '21_24' '25_29' '30_34' '35_39' '40_44' '45_49'\n",
        " '50_54' '55_64' '65_999']\n",
        "\n",
        "\n",
        "*   'demo' feature is concatenation of age and gender so 24 Features, so 24 categories: ['F:02_12' 'F:13_17' 'F:18_20' 'F:21_24' 'F:25_29' 'F:30_34' 'F:35_39' 'F:40_44' 'F:45_49'\n",
        " 'F:50_54' 'F:55_64' 'F:65_999' 'M:02_12' 'M:13_17' 'M:18_20' 'M:21_24' 'M:25_29' 'M:30_34' 'M:35_39' 'M:40_44' 'M:45_49'\n",
        " 'M:50_54' 'M:55_64' 'M:65_999']\n",
        "\n",
        "\n",
        "*   'genre_id' feature has 11 categories, each number maybe denoted to one genre type\n",
        "*   'chanel_id' feature only has 1 category, which is also the same across the CSV, thus the 'chanel_id' column may be dropped during modelling, since all rows contain the same 'chanel_id'\n",
        "\n",
        "*   Though 'household_id' and 'person_id' are numerical datatype in the CSV, but they are assigned ID for the household that viewed the id and assigned ID for the person within the household who viewed the id, these numbers should be considered as categorical variables as well\n",
        "*   'race' feature has 11 categories,['White', 'Black', 'Asian Indian', 'Filipino', 'American Indian',\n",
        "'Chinese', 'Japanese', 'Other', 'Korean', 'Vietnamese', 'Hawaiian'],\n",
        " dtype=object)\n",
        "\n",
        "\n",
        "\n",
        "\n",
        "\n",
        "\n",
        "\n",
        "\n",
        " \n",
        "(some code has been reflected earlier)\n",
        "\n",
        "\n",
        "\n",
        "\n"
      ],
      "metadata": {
        "id": "7dZ_N9LSXXT_"
      }
    },
    {
      "cell_type": "code",
      "source": [
        "df2.genre_id.unique()"
      ],
      "metadata": {
        "colab": {
          "base_uri": "https://localhost:8080/"
        },
        "id": "YFb6-QGHb2MQ",
        "outputId": "43f6f306-4263-4e00-80ba-2b729b848758"
      },
      "execution_count": null,
      "outputs": [
        {
          "output_type": "execute_result",
          "data": {
            "text/plain": [
              "array([ 5,  3,  4,  7, 16, 13, 15, 10, 14,  0, 17])"
            ]
          },
          "metadata": {},
          "execution_count": 9
        }
      ]
    },
    {
      "cell_type": "code",
      "source": [
        "df2.channel_id.unique()"
      ],
      "metadata": {
        "colab": {
          "base_uri": "https://localhost:8080/"
        },
        "id": "XY1VRuqYcZL2",
        "outputId": "5981f09e-17b5-45d5-bf7e-88d83b964041"
      },
      "execution_count": null,
      "outputs": [
        {
          "output_type": "execute_result",
          "data": {
            "text/plain": [
              "array([2])"
            ]
          },
          "metadata": {},
          "execution_count": 33
        }
      ]
    },
    {
      "cell_type": "code",
      "source": [
        "df2.race.unique()"
      ],
      "metadata": {
        "colab": {
          "base_uri": "https://localhost:8080/"
        },
        "id": "cxaorQaDdmDd",
        "outputId": "2b514eb4-f5b7-4672-d89c-164aaf489aad"
      },
      "execution_count": null,
      "outputs": [
        {
          "output_type": "execute_result",
          "data": {
            "text/plain": [
              "array(['White', 'Black', 'American Indian', 'Filipino', 'Chinese',\n",
              "       'Asian Indian', 'Japanese', 'Other', 'Korean', 'Vietnamese',\n",
              "       'Hawaiian'], dtype=object)"
            ]
          },
          "metadata": {},
          "execution_count": 34
        }
      ]
    },
    {
      "cell_type": "code",
      "source": [
        "df2['device_type'].value_counts()"
      ],
      "metadata": {
        "colab": {
          "base_uri": "https://localhost:8080/"
        },
        "id": "LaZIqzb53JbN",
        "outputId": "edbe6dac-56fe-4127-e755-fac606bb5380"
      },
      "execution_count": null,
      "outputs": [
        {
          "output_type": "execute_result",
          "data": {
            "text/plain": [
              "Fire OS    30451\n",
              "Android     7074\n",
              "Name: device_type, dtype: int64"
            ]
          },
          "metadata": {},
          "execution_count": 35
        }
      ]
    },
    {
      "cell_type": "code",
      "source": [
        "df2['device_type'].describe()"
      ],
      "metadata": {
        "colab": {
          "base_uri": "https://localhost:8080/"
        },
        "id": "q0nh4uj93B-J",
        "outputId": "80c1f27b-8113-485b-ecb9-d7e353708d0d"
      },
      "execution_count": null,
      "outputs": [
        {
          "output_type": "execute_result",
          "data": {
            "text/plain": [
              "count       37525\n",
              "unique          2\n",
              "top       Fire OS\n",
              "freq        30451\n",
              "Name: device_type, dtype: object"
            ]
          },
          "metadata": {},
          "execution_count": 36
        }
      ]
    },
    {
      "cell_type": "markdown",
      "source": [
        "# Q2 Which features may be important in a clustering model:"
      ],
      "metadata": {
        "id": "hQ3biX3WbA0C"
      }
    },
    {
      "cell_type": "markdown",
      "source": [
        "Clustering models focus on identifying groups of similar records and labeling the records according to the group to which they belong.\n",
        "*   People of the same 'gender' may have the similar hobbies \n",
        "\n",
        "*   People in the same 'age_bucket' may show similar activities they tend to enjoy. \n",
        "*   People in the same 'household' may like the same content, as they are in the same family\n",
        "\n",
        "*  People of the same 'race' may like the same content\n",
        "\n",
        "*   People who have viewed the same 'genre_id' may like to view similar contents\n",
        "\n",
        "\n",
        "\n"
      ],
      "metadata": {
        "id": "N8DcDcMSaQNj"
      }
    },
    {
      "cell_type": "markdown",
      "source": [
        "# Q3 Clustering model\n",
        "I used Kmeans Cluster before, but Kmeans is more suitable for numerical dataset. The CSV here is majorly categorical data, thus I decided to use K modes to map the data, K modes is more suitable for categorical data.\n",
        "KMeans uses mathematical measures (distance) to cluster continuous data. The lesser the distance, the more similar the data points are. Centroids are updated by Means.\n",
        "But for categorical data points,there is no way to calculate the distance. KModes algorithm uses the dissimilarities(total mismatches) between the data points. The lesser the dissimilarities the more similar the data points. \n",
        "# Feature Selection\n",
        "'data_date' and 'utc_time'is the date,time when viewing event occured, these two features can be replaced by the 'daypart_id' column, where we don't need the specific time the event occured, but we count the time/date toward a broader time frame of whether it is PrimeTime, whether it is Weekdays or Weekends.\n",
        "'daypart' and 'device_id' are two columns I created for encoding, also dropped"
      ],
      "metadata": {
        "id": "BGZtVWAr_zL6"
      }
    },
    {
      "cell_type": "code",
      "source": [
        "df2.head()"
      ],
      "metadata": {
        "colab": {
          "base_uri": "https://localhost:8080/",
          "height": 357
        },
        "id": "_-QiSr3gmUsq",
        "outputId": "1e09c2ee-9cab-4300-a85f-731c64d7c700"
      },
      "execution_count": null,
      "outputs": [
        {
          "output_type": "execute_result",
          "data": {
            "text/plain": [
              "        data_date          utc_time  household_id  person_id gender  \\\n",
              "10286  12/13/2021  12/13/2021 23:12           282        666      M   \n",
              "5122    12/5/2021   12/5/2021 17:31            41        787      M   \n",
              "18498   12/2/2021    12/2/2021 8:42           221        554      F   \n",
              "8348   12/11/2021  12/11/2021 23:22           332        785      M   \n",
              "18487   12/8/2021   12/8/2021 17:51           142        128      F   \n",
              "\n",
              "      age_bucket     demo   race  channel_id device_type  genre_id  \\\n",
              "10286      02_12  M:02_12  White           2     Fire OS         0   \n",
              "5122       02_12  M:02_12  White           2     Fire OS        16   \n",
              "18498      02_12  F:02_12  White           2     Fire OS         5   \n",
              "8348       02_12  M:02_12  White           2     Fire OS         5   \n",
              "18487      02_12  F:02_12  Black           2     Fire OS        16   \n",
              "\n",
              "             daypart_id  daypart  device_id  \n",
              "10286  Non_PrimeTime_WD        1          1  \n",
              "5122   Non_PrimeTime_WE        2          1  \n",
              "18498  Non_PrimeTime_WD        1          1  \n",
              "8348   Non_PrimeTime_WE        2          1  \n",
              "18487  Non_PrimeTime_WD        1          1  "
            ],
            "text/html": [
              "\n",
              "  <div id=\"df-6cafb3ea-aba3-41e9-a266-96c433587ab3\">\n",
              "    <div class=\"colab-df-container\">\n",
              "      <div>\n",
              "<style scoped>\n",
              "    .dataframe tbody tr th:only-of-type {\n",
              "        vertical-align: middle;\n",
              "    }\n",
              "\n",
              "    .dataframe tbody tr th {\n",
              "        vertical-align: top;\n",
              "    }\n",
              "\n",
              "    .dataframe thead th {\n",
              "        text-align: right;\n",
              "    }\n",
              "</style>\n",
              "<table border=\"1\" class=\"dataframe\">\n",
              "  <thead>\n",
              "    <tr style=\"text-align: right;\">\n",
              "      <th></th>\n",
              "      <th>data_date</th>\n",
              "      <th>utc_time</th>\n",
              "      <th>household_id</th>\n",
              "      <th>person_id</th>\n",
              "      <th>gender</th>\n",
              "      <th>age_bucket</th>\n",
              "      <th>demo</th>\n",
              "      <th>race</th>\n",
              "      <th>channel_id</th>\n",
              "      <th>device_type</th>\n",
              "      <th>genre_id</th>\n",
              "      <th>daypart_id</th>\n",
              "      <th>daypart</th>\n",
              "      <th>device_id</th>\n",
              "    </tr>\n",
              "  </thead>\n",
              "  <tbody>\n",
              "    <tr>\n",
              "      <th>10286</th>\n",
              "      <td>12/13/2021</td>\n",
              "      <td>12/13/2021 23:12</td>\n",
              "      <td>282</td>\n",
              "      <td>666</td>\n",
              "      <td>M</td>\n",
              "      <td>02_12</td>\n",
              "      <td>M:02_12</td>\n",
              "      <td>White</td>\n",
              "      <td>2</td>\n",
              "      <td>Fire OS</td>\n",
              "      <td>0</td>\n",
              "      <td>Non_PrimeTime_WD</td>\n",
              "      <td>1</td>\n",
              "      <td>1</td>\n",
              "    </tr>\n",
              "    <tr>\n",
              "      <th>5122</th>\n",
              "      <td>12/5/2021</td>\n",
              "      <td>12/5/2021 17:31</td>\n",
              "      <td>41</td>\n",
              "      <td>787</td>\n",
              "      <td>M</td>\n",
              "      <td>02_12</td>\n",
              "      <td>M:02_12</td>\n",
              "      <td>White</td>\n",
              "      <td>2</td>\n",
              "      <td>Fire OS</td>\n",
              "      <td>16</td>\n",
              "      <td>Non_PrimeTime_WE</td>\n",
              "      <td>2</td>\n",
              "      <td>1</td>\n",
              "    </tr>\n",
              "    <tr>\n",
              "      <th>18498</th>\n",
              "      <td>12/2/2021</td>\n",
              "      <td>12/2/2021 8:42</td>\n",
              "      <td>221</td>\n",
              "      <td>554</td>\n",
              "      <td>F</td>\n",
              "      <td>02_12</td>\n",
              "      <td>F:02_12</td>\n",
              "      <td>White</td>\n",
              "      <td>2</td>\n",
              "      <td>Fire OS</td>\n",
              "      <td>5</td>\n",
              "      <td>Non_PrimeTime_WD</td>\n",
              "      <td>1</td>\n",
              "      <td>1</td>\n",
              "    </tr>\n",
              "    <tr>\n",
              "      <th>8348</th>\n",
              "      <td>12/11/2021</td>\n",
              "      <td>12/11/2021 23:22</td>\n",
              "      <td>332</td>\n",
              "      <td>785</td>\n",
              "      <td>M</td>\n",
              "      <td>02_12</td>\n",
              "      <td>M:02_12</td>\n",
              "      <td>White</td>\n",
              "      <td>2</td>\n",
              "      <td>Fire OS</td>\n",
              "      <td>5</td>\n",
              "      <td>Non_PrimeTime_WE</td>\n",
              "      <td>2</td>\n",
              "      <td>1</td>\n",
              "    </tr>\n",
              "    <tr>\n",
              "      <th>18487</th>\n",
              "      <td>12/8/2021</td>\n",
              "      <td>12/8/2021 17:51</td>\n",
              "      <td>142</td>\n",
              "      <td>128</td>\n",
              "      <td>F</td>\n",
              "      <td>02_12</td>\n",
              "      <td>F:02_12</td>\n",
              "      <td>Black</td>\n",
              "      <td>2</td>\n",
              "      <td>Fire OS</td>\n",
              "      <td>16</td>\n",
              "      <td>Non_PrimeTime_WD</td>\n",
              "      <td>1</td>\n",
              "      <td>1</td>\n",
              "    </tr>\n",
              "  </tbody>\n",
              "</table>\n",
              "</div>\n",
              "      <button class=\"colab-df-convert\" onclick=\"convertToInteractive('df-6cafb3ea-aba3-41e9-a266-96c433587ab3')\"\n",
              "              title=\"Convert this dataframe to an interactive table.\"\n",
              "              style=\"display:none;\">\n",
              "        \n",
              "  <svg xmlns=\"http://www.w3.org/2000/svg\" height=\"24px\"viewBox=\"0 0 24 24\"\n",
              "       width=\"24px\">\n",
              "    <path d=\"M0 0h24v24H0V0z\" fill=\"none\"/>\n",
              "    <path d=\"M18.56 5.44l.94 2.06.94-2.06 2.06-.94-2.06-.94-.94-2.06-.94 2.06-2.06.94zm-11 1L8.5 8.5l.94-2.06 2.06-.94-2.06-.94L8.5 2.5l-.94 2.06-2.06.94zm10 10l.94 2.06.94-2.06 2.06-.94-2.06-.94-.94-2.06-.94 2.06-2.06.94z\"/><path d=\"M17.41 7.96l-1.37-1.37c-.4-.4-.92-.59-1.43-.59-.52 0-1.04.2-1.43.59L10.3 9.45l-7.72 7.72c-.78.78-.78 2.05 0 2.83L4 21.41c.39.39.9.59 1.41.59.51 0 1.02-.2 1.41-.59l7.78-7.78 2.81-2.81c.8-.78.8-2.07 0-2.86zM5.41 20L4 18.59l7.72-7.72 1.47 1.35L5.41 20z\"/>\n",
              "  </svg>\n",
              "      </button>\n",
              "      \n",
              "  <style>\n",
              "    .colab-df-container {\n",
              "      display:flex;\n",
              "      flex-wrap:wrap;\n",
              "      gap: 12px;\n",
              "    }\n",
              "\n",
              "    .colab-df-convert {\n",
              "      background-color: #E8F0FE;\n",
              "      border: none;\n",
              "      border-radius: 50%;\n",
              "      cursor: pointer;\n",
              "      display: none;\n",
              "      fill: #1967D2;\n",
              "      height: 32px;\n",
              "      padding: 0 0 0 0;\n",
              "      width: 32px;\n",
              "    }\n",
              "\n",
              "    .colab-df-convert:hover {\n",
              "      background-color: #E2EBFA;\n",
              "      box-shadow: 0px 1px 2px rgba(60, 64, 67, 0.3), 0px 1px 3px 1px rgba(60, 64, 67, 0.15);\n",
              "      fill: #174EA6;\n",
              "    }\n",
              "\n",
              "    [theme=dark] .colab-df-convert {\n",
              "      background-color: #3B4455;\n",
              "      fill: #D2E3FC;\n",
              "    }\n",
              "\n",
              "    [theme=dark] .colab-df-convert:hover {\n",
              "      background-color: #434B5C;\n",
              "      box-shadow: 0px 1px 3px 1px rgba(0, 0, 0, 0.15);\n",
              "      filter: drop-shadow(0px 1px 2px rgba(0, 0, 0, 0.3));\n",
              "      fill: #FFFFFF;\n",
              "    }\n",
              "  </style>\n",
              "\n",
              "      <script>\n",
              "        const buttonEl =\n",
              "          document.querySelector('#df-6cafb3ea-aba3-41e9-a266-96c433587ab3 button.colab-df-convert');\n",
              "        buttonEl.style.display =\n",
              "          google.colab.kernel.accessAllowed ? 'block' : 'none';\n",
              "\n",
              "        async function convertToInteractive(key) {\n",
              "          const element = document.querySelector('#df-6cafb3ea-aba3-41e9-a266-96c433587ab3');\n",
              "          const dataTable =\n",
              "            await google.colab.kernel.invokeFunction('convertToInteractive',\n",
              "                                                     [key], {});\n",
              "          if (!dataTable) return;\n",
              "\n",
              "          const docLinkHtml = 'Like what you see? Visit the ' +\n",
              "            '<a target=\"_blank\" href=https://colab.research.google.com/notebooks/data_table.ipynb>data table notebook</a>'\n",
              "            + ' to learn more about interactive tables.';\n",
              "          element.innerHTML = '';\n",
              "          dataTable['output_type'] = 'display_data';\n",
              "          await google.colab.output.renderOutput(dataTable, element);\n",
              "          const docLink = document.createElement('div');\n",
              "          docLink.innerHTML = docLinkHtml;\n",
              "          element.appendChild(docLink);\n",
              "        }\n",
              "      </script>\n",
              "    </div>\n",
              "  </div>\n",
              "  "
            ]
          },
          "metadata": {},
          "execution_count": 32
        }
      ]
    },
    {
      "cell_type": "code",
      "source": [
        "df3=df2.drop(['data_date','utc_time','daypart','device_id'], axis=1)"
      ],
      "metadata": {
        "id": "D2W3O0YSmwXR"
      },
      "execution_count": null,
      "outputs": []
    },
    {
      "cell_type": "markdown",
      "source": [
        "#For this specific dataset,'chanel_id' can also be dropped since it is '2' for all rows, but I decided to keep it here as if in the future when we have other dataset with different 'chanel_id' we can still use the same code"
      ],
      "metadata": {
        "id": "2iz89cmUI0Fa"
      }
    },
    {
      "cell_type": "code",
      "source": [
        "!pip install kmodes\n",
        "from kmodes.kmodes import KModes"
      ],
      "metadata": {
        "colab": {
          "base_uri": "https://localhost:8080/"
        },
        "id": "w2HVTknVQxg7",
        "outputId": "54490467-74cf-496b-8cc3-1b66a20ddf99"
      },
      "execution_count": null,
      "outputs": [
        {
          "output_type": "stream",
          "name": "stdout",
          "text": [
            "Looking in indexes: https://pypi.org/simple, https://us-python.pkg.dev/colab-wheels/public/simple/\n",
            "Collecting kmodes\n",
            "  Downloading kmodes-0.12.1-py2.py3-none-any.whl (20 kB)\n",
            "Requirement already satisfied: scipy>=0.13.3 in /usr/local/lib/python3.7/dist-packages (from kmodes) (1.7.3)\n",
            "Requirement already satisfied: numpy>=1.10.4 in /usr/local/lib/python3.7/dist-packages (from kmodes) (1.21.6)\n",
            "Requirement already satisfied: scikit-learn>=0.22.0 in /usr/local/lib/python3.7/dist-packages (from kmodes) (1.0.2)\n",
            "Requirement already satisfied: joblib>=0.11 in /usr/local/lib/python3.7/dist-packages (from kmodes) (1.1.0)\n",
            "Requirement already satisfied: threadpoolctl>=2.0.0 in /usr/local/lib/python3.7/dist-packages (from scikit-learn>=0.22.0->kmodes) (3.1.0)\n",
            "Installing collected packages: kmodes\n",
            "Successfully installed kmodes-0.12.1\n"
          ]
        }
      ]
    },
    {
      "cell_type": "markdown",
      "source": [
        "# Elbow curve is used to find the optimal K\n",
        "Target is age_bucket, where we have seen 12 different age groups, try K(number of centeriods) from 1 to 12 should be enough"
      ],
      "metadata": {
        "id": "5uMunMkul2fG"
      }
    },
    {
      "cell_type": "markdown",
      "source": [
        "The k-modes algorithm uses a simple matching dissimilarity measure\n",
        "to deal with categorical objects, replaces the means of clusters(for numerical data) with modes, and uses a frequency-based method to\n",
        "update modes in the clustering process to minimize the clustering cost function. With these extensions the k-modes\n",
        "algorithm enables the clustering of categorical data in a fashion similar to k-means. "
      ],
      "metadata": {
        "id": "JRPdFalrAdcx"
      }
    },
    {
      "cell_type": "code",
      "source": [
        "# reduce the K range and reduce the n_init number can significantly reduce the time to plot the Elbow Curve\n",
        "# n_init default is 10, which will take very long for generating the Elbow Curve, use n_init=5 will save time when selecting the optimal K\n",
        "cost = []\n",
        "K = range(1,15)\n",
        "for num_clusters in list(K):\n",
        "    kmode = KModes(n_clusters=num_clusters, init = \"random\", n_init=5, verbose=1)\n",
        "    kmode.fit_predict(df3)\n",
        "    cost.append(kmode.cost_)\n",
        "    \n",
        "plt.plot(K, cost, 'bx-')\n",
        "plt.xlabel('No. of clusters')\n",
        "plt.ylabel('Cost')\n",
        "plt.title('Elbow Method For Optimal k')\n",
        "plt.show()"
      ],
      "metadata": {
        "colab": {
          "base_uri": "https://localhost:8080/",
          "height": 1000
        },
        "id": "MldypmRaFcVh",
        "outputId": "135ae7f0-744b-4a86-a3b2-2084d8501d97"
      },
      "execution_count": null,
      "outputs": [
        {
          "output_type": "stream",
          "name": "stdout",
          "text": [
            "Init: initializing centroids\n",
            "Init: initializing clusters\n",
            "Starting iterations...\n",
            "Run 1, iteration: 1/100, moves: 0, cost: 216980.0\n",
            "Init: initializing centroids\n",
            "Init: initializing clusters\n",
            "Starting iterations...\n",
            "Run 2, iteration: 1/100, moves: 0, cost: 216980.0\n",
            "Init: initializing centroids\n",
            "Init: initializing clusters\n",
            "Starting iterations...\n",
            "Run 3, iteration: 1/100, moves: 0, cost: 216980.0\n",
            "Init: initializing centroids\n",
            "Init: initializing clusters\n",
            "Starting iterations...\n",
            "Run 4, iteration: 1/100, moves: 0, cost: 216980.0\n",
            "Init: initializing centroids\n",
            "Init: initializing clusters\n",
            "Starting iterations...\n",
            "Run 5, iteration: 1/100, moves: 0, cost: 216980.0\n",
            "Best run was number 1\n",
            "Init: initializing centroids\n",
            "Init: initializing clusters\n",
            "Starting iterations...\n",
            "Run 1, iteration: 1/100, moves: 1477, cost: 209310.0\n",
            "Init: initializing centroids\n",
            "Init: initializing clusters\n",
            "Starting iterations...\n",
            "Run 2, iteration: 1/100, moves: 13084, cost: 193724.0\n",
            "Run 2, iteration: 2/100, moves: 1091, cost: 193724.0\n",
            "Init: initializing centroids\n",
            "Init: initializing clusters\n",
            "Starting iterations...\n",
            "Run 3, iteration: 1/100, moves: 6615, cost: 194798.0\n",
            "Run 3, iteration: 2/100, moves: 7995, cost: 194441.0\n",
            "Run 3, iteration: 3/100, moves: 223, cost: 194441.0\n",
            "Init: initializing centroids\n",
            "Init: initializing clusters\n",
            "Starting iterations...\n",
            "Run 4, iteration: 1/100, moves: 3748, cost: 196459.0\n",
            "Run 4, iteration: 2/100, moves: 0, cost: 196459.0\n",
            "Init: initializing centroids\n",
            "Init: initializing clusters\n",
            "Starting iterations...\n",
            "Run 5, iteration: 1/100, moves: 13505, cost: 193421.0\n",
            "Run 5, iteration: 2/100, moves: 4005, cost: 193421.0\n",
            "Best run was number 5\n",
            "Init: initializing centroids\n",
            "Init: initializing clusters\n",
            "Starting iterations...\n",
            "Run 1, iteration: 1/100, moves: 8401, cost: 190757.0\n",
            "Run 1, iteration: 2/100, moves: 1019, cost: 190691.0\n",
            "Run 1, iteration: 3/100, moves: 145, cost: 190691.0\n",
            "Init: initializing centroids\n",
            "Init: initializing clusters\n",
            "Starting iterations...\n",
            "Run 2, iteration: 1/100, moves: 10459, cost: 187149.0\n",
            "Run 2, iteration: 2/100, moves: 3880, cost: 185631.0\n",
            "Run 2, iteration: 3/100, moves: 75, cost: 185631.0\n",
            "Init: initializing centroids\n",
            "Init: initializing clusters\n",
            "Starting iterations...\n",
            "Run 3, iteration: 1/100, moves: 6953, cost: 186990.0\n",
            "Run 3, iteration: 2/100, moves: 2208, cost: 186744.0\n",
            "Run 3, iteration: 3/100, moves: 9, cost: 186744.0\n",
            "Init: initializing centroids\n",
            "Init: initializing clusters\n",
            "Starting iterations...\n",
            "Run 4, iteration: 1/100, moves: 6935, cost: 185225.0\n",
            "Run 4, iteration: 2/100, moves: 751, cost: 185091.0\n",
            "Run 4, iteration: 3/100, moves: 182, cost: 184980.0\n",
            "Run 4, iteration: 4/100, moves: 0, cost: 184980.0\n",
            "Init: initializing centroids\n",
            "Init: initializing clusters\n",
            "Starting iterations...\n",
            "Run 5, iteration: 1/100, moves: 8873, cost: 183785.0\n",
            "Run 5, iteration: 2/100, moves: 72, cost: 183785.0\n",
            "Best run was number 5\n",
            "Init: initializing centroids\n",
            "Init: initializing clusters\n",
            "Starting iterations...\n",
            "Run 1, iteration: 1/100, moves: 14616, cost: 177877.0\n",
            "Run 1, iteration: 2/100, moves: 2500, cost: 176568.0\n",
            "Run 1, iteration: 3/100, moves: 232, cost: 176568.0\n",
            "Init: initializing centroids\n",
            "Init: initializing clusters\n",
            "Starting iterations...\n",
            "Run 2, iteration: 1/100, moves: 10040, cost: 178105.0\n",
            "Run 2, iteration: 2/100, moves: 2169, cost: 176969.0\n",
            "Run 2, iteration: 3/100, moves: 116, cost: 176969.0\n",
            "Init: initializing centroids\n",
            "Init: initializing clusters\n",
            "Starting iterations...\n",
            "Run 3, iteration: 1/100, moves: 9995, cost: 174196.0\n",
            "Run 3, iteration: 2/100, moves: 4119, cost: 174196.0\n",
            "Init: initializing centroids\n",
            "Init: initializing clusters\n",
            "Starting iterations...\n",
            "Run 4, iteration: 1/100, moves: 9195, cost: 177314.0\n",
            "Run 4, iteration: 2/100, moves: 238, cost: 177314.0\n",
            "Init: initializing centroids\n",
            "Init: initializing clusters\n",
            "Starting iterations...\n",
            "Run 5, iteration: 1/100, moves: 7393, cost: 177870.0\n",
            "Run 5, iteration: 2/100, moves: 7174, cost: 177870.0\n",
            "Best run was number 3\n",
            "Init: initializing centroids\n",
            "Init: initializing clusters\n",
            "Starting iterations...\n",
            "Run 1, iteration: 1/100, moves: 7607, cost: 175526.0\n",
            "Run 1, iteration: 2/100, moves: 837, cost: 175526.0\n",
            "Init: initializing centroids\n",
            "Init: initializing clusters\n",
            "Starting iterations...\n",
            "Run 2, iteration: 1/100, moves: 3652, cost: 173758.0\n",
            "Init: initializing centroids\n",
            "Init: initializing clusters\n",
            "Starting iterations...\n",
            "Run 3, iteration: 1/100, moves: 6908, cost: 175237.0\n",
            "Run 3, iteration: 2/100, moves: 254, cost: 175237.0\n",
            "Init: initializing centroids\n",
            "Init: initializing clusters\n",
            "Starting iterations...\n",
            "Run 4, iteration: 1/100, moves: 7844, cost: 176978.0\n",
            "Init: initializing centroids\n",
            "Init: initializing clusters\n",
            "Starting iterations...\n",
            "Run 5, iteration: 1/100, moves: 5303, cost: 174825.0\n",
            "Best run was number 2\n",
            "Init: initializing centroids\n",
            "Init: initializing clusters\n",
            "Starting iterations...\n",
            "Run 1, iteration: 1/100, moves: 7724, cost: 164137.0\n",
            "Run 1, iteration: 2/100, moves: 220, cost: 164137.0\n",
            "Init: initializing centroids\n",
            "Init: initializing clusters\n",
            "Starting iterations...\n",
            "Run 2, iteration: 1/100, moves: 2820, cost: 171342.0\n",
            "Run 2, iteration: 2/100, moves: 2075, cost: 170079.0\n",
            "Run 2, iteration: 3/100, moves: 1834, cost: 165672.0\n",
            "Run 2, iteration: 4/100, moves: 2918, cost: 165672.0\n",
            "Init: initializing centroids\n",
            "Init: initializing clusters\n",
            "Starting iterations...\n",
            "Run 3, iteration: 1/100, moves: 8638, cost: 168839.0\n",
            "Run 3, iteration: 2/100, moves: 3039, cost: 166875.0\n",
            "Run 3, iteration: 3/100, moves: 64, cost: 166875.0\n",
            "Init: initializing centroids\n",
            "Init: initializing clusters\n",
            "Starting iterations...\n",
            "Run 4, iteration: 1/100, moves: 11852, cost: 169022.0\n",
            "Run 4, iteration: 2/100, moves: 7707, cost: 166119.0\n",
            "Run 4, iteration: 3/100, moves: 2677, cost: 164480.0\n",
            "Run 4, iteration: 4/100, moves: 4015, cost: 163715.0\n",
            "Run 4, iteration: 5/100, moves: 13, cost: 163715.0\n",
            "Init: initializing centroids\n",
            "Init: initializing clusters\n",
            "Starting iterations...\n",
            "Run 5, iteration: 1/100, moves: 12539, cost: 174183.0\n",
            "Run 5, iteration: 2/100, moves: 961, cost: 174183.0\n",
            "Best run was number 4\n",
            "Init: initializing centroids\n",
            "Init: initializing clusters\n",
            "Starting iterations...\n",
            "Run 1, iteration: 1/100, moves: 12120, cost: 166709.0\n",
            "Run 1, iteration: 2/100, moves: 3177, cost: 165632.0\n",
            "Run 1, iteration: 3/100, moves: 1406, cost: 165632.0\n",
            "Init: initializing centroids\n",
            "Init: initializing clusters\n",
            "Starting iterations...\n",
            "Run 2, iteration: 1/100, moves: 5503, cost: 162027.0\n",
            "Run 2, iteration: 2/100, moves: 3971, cost: 161661.0\n",
            "Run 2, iteration: 3/100, moves: 289, cost: 161661.0\n",
            "Init: initializing centroids\n",
            "Init: initializing clusters\n",
            "Starting iterations...\n",
            "Run 3, iteration: 1/100, moves: 8246, cost: 170004.0\n",
            "Run 3, iteration: 2/100, moves: 2999, cost: 168136.0\n",
            "Run 3, iteration: 3/100, moves: 398, cost: 168136.0\n",
            "Init: initializing centroids\n",
            "Init: initializing clusters\n",
            "Starting iterations...\n",
            "Run 4, iteration: 1/100, moves: 10573, cost: 164769.0\n",
            "Run 4, iteration: 2/100, moves: 2438, cost: 163705.0\n",
            "Run 4, iteration: 3/100, moves: 413, cost: 163705.0\n",
            "Init: initializing centroids\n",
            "Init: initializing clusters\n",
            "Starting iterations...\n",
            "Run 5, iteration: 1/100, moves: 9254, cost: 164112.0\n",
            "Run 5, iteration: 2/100, moves: 7067, cost: 163664.0\n",
            "Run 5, iteration: 3/100, moves: 207, cost: 163664.0\n",
            "Best run was number 2\n",
            "Init: initializing centroids\n",
            "Init: initializing clusters\n",
            "Starting iterations...\n",
            "Run 1, iteration: 1/100, moves: 3604, cost: 160091.0\n",
            "Run 1, iteration: 2/100, moves: 1431, cost: 160091.0\n",
            "Init: initializing centroids\n",
            "Init: initializing clusters\n",
            "Starting iterations...\n",
            "Run 2, iteration: 1/100, moves: 12207, cost: 159265.0\n",
            "Run 2, iteration: 2/100, moves: 6190, cost: 159265.0\n",
            "Init: initializing centroids\n",
            "Init: initializing clusters\n",
            "Starting iterations...\n",
            "Run 3, iteration: 1/100, moves: 5960, cost: 163534.0\n",
            "Run 3, iteration: 2/100, moves: 1944, cost: 163479.0\n",
            "Run 3, iteration: 3/100, moves: 6, cost: 163479.0\n",
            "Init: initializing centroids\n",
            "Init: initializing clusters\n",
            "Starting iterations...\n",
            "Run 4, iteration: 1/100, moves: 5944, cost: 159894.0\n",
            "Run 4, iteration: 2/100, moves: 3153, cost: 156395.0\n",
            "Run 4, iteration: 3/100, moves: 2146, cost: 155690.0\n",
            "Run 4, iteration: 4/100, moves: 477, cost: 155690.0\n",
            "Init: initializing centroids\n",
            "Init: initializing clusters\n",
            "Starting iterations...\n",
            "Run 5, iteration: 1/100, moves: 11409, cost: 161686.0\n",
            "Run 5, iteration: 2/100, moves: 3168, cost: 161686.0\n",
            "Best run was number 4\n",
            "Init: initializing centroids\n",
            "Init: initializing clusters\n",
            "Starting iterations...\n",
            "Run 1, iteration: 1/100, moves: 15015, cost: 152371.0\n",
            "Run 1, iteration: 2/100, moves: 1816, cost: 152371.0\n",
            "Init: initializing centroids\n",
            "Init: initializing clusters\n",
            "Starting iterations...\n",
            "Run 2, iteration: 1/100, moves: 17231, cost: 153016.0\n",
            "Run 2, iteration: 2/100, moves: 3801, cost: 150236.0\n",
            "Run 2, iteration: 3/100, moves: 1928, cost: 150236.0\n",
            "Init: initializing centroids\n",
            "Init: initializing clusters\n",
            "Starting iterations...\n",
            "Run 3, iteration: 1/100, moves: 3275, cost: 155245.0\n",
            "Run 3, iteration: 2/100, moves: 238, cost: 155245.0\n",
            "Init: initializing centroids\n",
            "Init: initializing clusters\n",
            "Starting iterations...\n",
            "Run 4, iteration: 1/100, moves: 7688, cost: 154259.0\n",
            "Run 4, iteration: 2/100, moves: 3885, cost: 154259.0\n",
            "Init: initializing centroids\n",
            "Init: initializing clusters\n",
            "Starting iterations...\n",
            "Run 5, iteration: 1/100, moves: 6879, cost: 157754.0\n",
            "Run 5, iteration: 2/100, moves: 76, cost: 157754.0\n",
            "Best run was number 2\n",
            "Init: initializing centroids\n",
            "Init: initializing clusters\n",
            "Starting iterations...\n",
            "Run 1, iteration: 1/100, moves: 8361, cost: 147414.0\n",
            "Run 1, iteration: 2/100, moves: 523, cost: 147414.0\n",
            "Init: initializing centroids\n",
            "Init: initializing clusters\n",
            "Starting iterations...\n",
            "Run 2, iteration: 1/100, moves: 12545, cost: 150448.0\n",
            "Run 2, iteration: 2/100, moves: 4709, cost: 150164.0\n",
            "Run 2, iteration: 3/100, moves: 6, cost: 150164.0\n",
            "Init: initializing centroids\n",
            "Init: initializing clusters\n",
            "Starting iterations...\n",
            "Run 3, iteration: 1/100, moves: 6351, cost: 155171.0\n",
            "Run 3, iteration: 2/100, moves: 3685, cost: 152835.0\n",
            "Run 3, iteration: 3/100, moves: 96, cost: 152835.0\n",
            "Init: initializing centroids\n",
            "Init: initializing clusters\n",
            "Starting iterations...\n",
            "Run 4, iteration: 1/100, moves: 11315, cost: 160963.0\n",
            "Run 4, iteration: 2/100, moves: 517, cost: 160963.0\n",
            "Init: initializing centroids\n",
            "Init: initializing clusters\n",
            "Starting iterations...\n",
            "Run 5, iteration: 1/100, moves: 12963, cost: 155115.0\n",
            "Run 5, iteration: 2/100, moves: 4410, cost: 153991.0\n",
            "Run 5, iteration: 3/100, moves: 798, cost: 153991.0\n",
            "Best run was number 1\n",
            "Init: initializing centroids\n",
            "Init: initializing clusters\n",
            "Starting iterations...\n",
            "Run 1, iteration: 1/100, moves: 10199, cost: 150193.0\n",
            "Run 1, iteration: 2/100, moves: 5410, cost: 149022.0\n",
            "Run 1, iteration: 3/100, moves: 2129, cost: 148746.0\n",
            "Run 1, iteration: 4/100, moves: 75, cost: 148746.0\n",
            "Init: initializing centroids\n",
            "Init: initializing clusters\n",
            "Starting iterations...\n",
            "Run 2, iteration: 1/100, moves: 11329, cost: 149257.0\n",
            "Run 2, iteration: 2/100, moves: 4942, cost: 148532.0\n",
            "Run 2, iteration: 3/100, moves: 251, cost: 148532.0\n",
            "Init: initializing centroids\n",
            "Init: initializing clusters\n",
            "Starting iterations...\n",
            "Run 3, iteration: 1/100, moves: 4698, cost: 152482.0\n",
            "Run 3, iteration: 2/100, moves: 1546, cost: 152482.0\n",
            "Init: initializing centroids\n",
            "Init: initializing clusters\n",
            "Starting iterations...\n",
            "Run 4, iteration: 1/100, moves: 11817, cost: 148405.0\n",
            "Run 4, iteration: 2/100, moves: 3225, cost: 147679.0\n",
            "Run 4, iteration: 3/100, moves: 24, cost: 147679.0\n",
            "Init: initializing centroids\n",
            "Init: initializing clusters\n",
            "Starting iterations...\n",
            "Run 5, iteration: 1/100, moves: 6547, cost: 151262.0\n",
            "Run 5, iteration: 2/100, moves: 417, cost: 151202.0\n",
            "Run 5, iteration: 3/100, moves: 8, cost: 151202.0\n",
            "Best run was number 4\n",
            "Init: initializing centroids\n",
            "Init: initializing clusters\n",
            "Starting iterations...\n",
            "Run 1, iteration: 1/100, moves: 11751, cost: 153928.0\n",
            "Run 1, iteration: 2/100, moves: 5700, cost: 151007.0\n",
            "Run 1, iteration: 3/100, moves: 3177, cost: 151007.0\n",
            "Init: initializing centroids\n",
            "Init: initializing clusters\n",
            "Starting iterations...\n",
            "Run 2, iteration: 1/100, moves: 2348, cost: 153944.0\n",
            "Run 2, iteration: 2/100, moves: 86, cost: 153944.0\n",
            "Init: initializing centroids\n",
            "Init: initializing clusters\n",
            "Starting iterations...\n",
            "Run 3, iteration: 1/100, moves: 8410, cost: 146059.0\n",
            "Run 3, iteration: 2/100, moves: 91, cost: 146059.0\n",
            "Init: initializing centroids\n",
            "Init: initializing clusters\n",
            "Starting iterations...\n",
            "Run 4, iteration: 1/100, moves: 12878, cost: 147910.0\n",
            "Run 4, iteration: 2/100, moves: 1593, cost: 147910.0\n",
            "Init: initializing centroids\n",
            "Init: initializing clusters\n",
            "Starting iterations...\n",
            "Run 5, iteration: 1/100, moves: 11125, cost: 153763.0\n",
            "Run 5, iteration: 2/100, moves: 2552, cost: 153502.0\n",
            "Run 5, iteration: 3/100, moves: 4, cost: 153502.0\n",
            "Best run was number 3\n",
            "Init: initializing centroids\n",
            "Init: initializing clusters\n",
            "Starting iterations...\n",
            "Run 1, iteration: 1/100, moves: 8084, cost: 148682.0\n",
            "Run 1, iteration: 2/100, moves: 77, cost: 148682.0\n",
            "Init: initializing centroids\n",
            "Init: initializing clusters\n",
            "Starting iterations...\n",
            "Run 2, iteration: 1/100, moves: 8771, cost: 154364.0\n",
            "Run 2, iteration: 2/100, moves: 2609, cost: 153251.0\n",
            "Run 2, iteration: 3/100, moves: 113, cost: 153251.0\n",
            "Init: initializing centroids\n",
            "Init: initializing clusters\n",
            "Starting iterations...\n",
            "Run 3, iteration: 1/100, moves: 11097, cost: 148390.0\n",
            "Run 3, iteration: 2/100, moves: 4957, cost: 147734.0\n",
            "Run 3, iteration: 3/100, moves: 122, cost: 147734.0\n",
            "Init: initializing centroids\n",
            "Init: initializing clusters\n",
            "Starting iterations...\n",
            "Run 4, iteration: 1/100, moves: 9002, cost: 150525.0\n",
            "Run 4, iteration: 2/100, moves: 1287, cost: 150365.0\n",
            "Run 4, iteration: 3/100, moves: 6, cost: 150365.0\n",
            "Init: initializing centroids\n",
            "Init: initializing clusters\n",
            "Starting iterations...\n",
            "Run 5, iteration: 1/100, moves: 10298, cost: 151685.0\n",
            "Run 5, iteration: 2/100, moves: 1518, cost: 151654.0\n",
            "Run 5, iteration: 3/100, moves: 0, cost: 151654.0\n",
            "Best run was number 3\n",
            "Init: initializing centroids\n",
            "Init: initializing clusters\n",
            "Starting iterations...\n",
            "Run 1, iteration: 1/100, moves: 14351, cost: 152867.0\n",
            "Run 1, iteration: 2/100, moves: 458, cost: 152867.0\n",
            "Init: initializing centroids\n",
            "Init: initializing clusters\n",
            "Starting iterations...\n",
            "Run 2, iteration: 1/100, moves: 10305, cost: 145351.0\n",
            "Run 2, iteration: 2/100, moves: 2500, cost: 144883.0\n",
            "Run 2, iteration: 3/100, moves: 510, cost: 144880.0\n",
            "Run 2, iteration: 4/100, moves: 24, cost: 144880.0\n",
            "Init: initializing centroids\n",
            "Init: initializing clusters\n",
            "Starting iterations...\n",
            "Run 3, iteration: 1/100, moves: 5802, cost: 148503.0\n",
            "Run 3, iteration: 2/100, moves: 498, cost: 148503.0\n",
            "Init: initializing centroids\n",
            "Init: initializing clusters\n",
            "Starting iterations...\n",
            "Run 4, iteration: 1/100, moves: 7589, cost: 149819.0\n",
            "Run 4, iteration: 2/100, moves: 215, cost: 149819.0\n",
            "Init: initializing centroids\n",
            "Init: initializing clusters\n",
            "Starting iterations...\n",
            "Run 5, iteration: 1/100, moves: 5471, cost: 144013.0\n",
            "Run 5, iteration: 2/100, moves: 968, cost: 143791.0\n",
            "Run 5, iteration: 3/100, moves: 33, cost: 143791.0\n",
            "Best run was number 5\n"
          ]
        },
        {
          "output_type": "display_data",
          "data": {
            "text/plain": [
              "<Figure size 432x288 with 1 Axes>"
            ],
            "image/png": "[encoded data removed]"
          },
          "metadata": {
            "needs_background": "light"
          }
        }
      ]
    },
    {
      "cell_type": "markdown",
      "source": [
        "# K modes Parameters explained\n",
        "\n",
        "    n_clusters : int, optional, default: 8\n",
        "        The number of clusters to form as well as the number of\n",
        "        centroids to generate.\n",
        "    max_iter : int, default: 300\n",
        "        Maximum number of iterations of the k-modes algorithm for a\n",
        "        single run.\n",
        "    cat_dissim : func, default: matching_dissim\n",
        "        Dissimilarity function used by the algorithm for categorical variables.\n",
        "        Defaults to the matching dissimilarity function.\n",
        "    init : {'Huang', 'Cao', 'random' or an ndarray}, default: 'Cao'\n",
        "        Method for initialization:\n",
        "        'Huang': Method in Huang [1997, 1998]\n",
        "        'Cao': Method in Cao et al. [2009]\n",
        "        'random': choose 'n_clusters' observations (rows) at random from\n",
        "        data for the initial centroids.\n",
        "        If an ndarray is passed, it should be of shape (n_clusters, n_features)\n",
        "        and gives the initial centroids.\n",
        "    n_init : int, default: 10\n",
        "        Number of time the k-modes algorithm will be run with different\n",
        "        centroid seeds. The final results will be the best output of\n",
        "        n_init consecutive runs in terms of cost.\n",
        "    verbose : int, optional\n",
        "        Verbosity mode."
      ],
      "metadata": {
        "id": "4vVjWa35O1e5"
      }
    },
    {
      "cell_type": "markdown",
      "source": [
        "![image.png](data:image/png;base64,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)"
      ],
      "metadata": {
        "id": "CoqVEJTVuVEU"
      }
    },
    {
      "cell_type": "markdown",
      "source": [
        "# K=10 to 12 showed a plateau on the Elbow Curve, assign K to 12 may take a longer time for compute, but may be more aligned with the 'age_bucket' column as there are 12 age groups.\n",
        "# We can also assign K=10 and build a second K modes model to see the differences between these two K modes model. "
      ],
      "metadata": {
        "id": "LnWYxxE0HXN6"
      }
    },
    {
      "cell_type": "code",
      "source": [
        "kmode = KModes(n_clusters=12, init = \"random\", n_init = 5, verbose=1)\n",
        "clusters = kmode.fit_predict(df3)\n",
        "clusters"
      ],
      "metadata": {
        "colab": {
          "base_uri": "https://localhost:8080/"
        },
        "id": "Wf-qZ-wPAswf",
        "outputId": "f4e3caf8-191f-4916-a087-29617cbe5069"
      },
      "execution_count": null,
      "outputs": [
        {
          "output_type": "stream",
          "name": "stdout",
          "text": [
            "Init: initializing centroids\n",
            "Init: initializing clusters\n",
            "Starting iterations...\n",
            "Run 1, iteration: 1/100, moves: 7340, cost: 148800.0\n",
            "Run 1, iteration: 2/100, moves: 2949, cost: 148749.0\n",
            "Run 1, iteration: 3/100, moves: 108, cost: 148749.0\n",
            "Init: initializing centroids\n",
            "Init: initializing clusters\n",
            "Starting iterations...\n",
            "Run 2, iteration: 1/100, moves: 10823, cost: 147882.0\n",
            "Run 2, iteration: 2/100, moves: 2882, cost: 147113.0\n",
            "Run 2, iteration: 3/100, moves: 289, cost: 147113.0\n",
            "Init: initializing centroids\n",
            "Init: initializing clusters\n",
            "Starting iterations...\n",
            "Run 3, iteration: 1/100, moves: 6771, cost: 154833.0\n",
            "Run 3, iteration: 2/100, moves: 3519, cost: 152034.0\n",
            "Run 3, iteration: 3/100, moves: 1693, cost: 151892.0\n",
            "Run 3, iteration: 4/100, moves: 1570, cost: 151123.0\n",
            "Run 3, iteration: 5/100, moves: 283, cost: 151123.0\n",
            "Init: initializing centroids\n",
            "Init: initializing clusters\n",
            "Starting iterations...\n",
            "Run 4, iteration: 1/100, moves: 8661, cost: 151830.0\n",
            "Run 4, iteration: 2/100, moves: 9592, cost: 150680.0\n",
            "Run 4, iteration: 3/100, moves: 3722, cost: 150680.0\n",
            "Init: initializing centroids\n",
            "Init: initializing clusters\n",
            "Starting iterations...\n",
            "Run 5, iteration: 1/100, moves: 10655, cost: 148697.0\n",
            "Run 5, iteration: 2/100, moves: 6294, cost: 146910.0\n",
            "Run 5, iteration: 3/100, moves: 1099, cost: 146765.0\n",
            "Run 5, iteration: 4/100, moves: 26, cost: 146765.0\n",
            "Best run was number 5\n"
          ]
        },
        {
          "output_type": "execute_result",
          "data": {
            "text/plain": [
              "array([3, 3, 0, ..., 4, 5, 4], dtype=uint16)"
            ]
          },
          "metadata": {},
          "execution_count": 37
        }
      ]
    },
    {
      "cell_type": "code",
      "source": [
        "df3.insert(0, \"Cluster\", clusters, True)\n",
        "df3"
      ],
      "metadata": {
        "colab": {
          "base_uri": "https://localhost:8080/",
          "height": 488
        },
        "id": "xUi1u_fbHK3W",
        "outputId": "e2483a0c-2da1-4663-86a9-ae2f1d44da51"
      },
      "execution_count": null,
      "outputs": [
        {
          "output_type": "execute_result",
          "data": {
            "text/plain": [
              "       Cluster  household_id  person_id gender age_bucket      demo      race  \\\n",
              "10286        3           282        666      M      02_12   M:02_12     White   \n",
              "5122         3            41        787      M      02_12   M:02_12     White   \n",
              "18498        0           221        554      F      02_12   F:02_12     White   \n",
              "8348         3           332        785      M      02_12   M:02_12     White   \n",
              "18487        2           142        128      F      02_12   F:02_12     Black   \n",
              "...        ...           ...        ...    ...        ...       ...       ...   \n",
              "35862        4           309        610      M     65_999  M:65_999     White   \n",
              "35857        4            91        599      M     65_999  M:65_999  Japanese   \n",
              "35853        4            95        585      M     65_999  M:65_999     White   \n",
              "33572        5           131        432      F     65_999  F:65_999     White   \n",
              "11099        4           166        435      M     65_999  M:65_999     White   \n",
              "\n",
              "       channel_id device_type  genre_id        daypart_id  \n",
              "10286           2     Fire OS         0  Non_PrimeTime_WD  \n",
              "5122            2     Fire OS        16  Non_PrimeTime_WE  \n",
              "18498           2     Fire OS         5  Non_PrimeTime_WD  \n",
              "8348            2     Fire OS         5  Non_PrimeTime_WE  \n",
              "18487           2     Fire OS        16  Non_PrimeTime_WD  \n",
              "...           ...         ...       ...               ...  \n",
              "35862           2     Android        14  Non_PrimeTime_WD  \n",
              "35857           2     Fire OS        14  Non_PrimeTime_WD  \n",
              "35853           2     Fire OS        13      PrimeTime_WD  \n",
              "33572           2     Android         4      PrimeTime_WD  \n",
              "11099           2     Fire OS         3  Non_PrimeTime_WD  \n",
              "\n",
              "[37525 rows x 11 columns]"
            ],
            "text/html": [
              "\n",
              "  <div id=\"df-e5b7a5a2-bf5e-4cd8-aeb2-d4e2d4a01c97\">\n",
              "    <div class=\"colab-df-container\">\n",
              "      <div>\n",
              "<style scoped>\n",
              "    .dataframe tbody tr th:only-of-type {\n",
              "        vertical-align: middle;\n",
              "    }\n",
              "\n",
              "    .dataframe tbody tr th {\n",
              "        vertical-align: top;\n",
              "    }\n",
              "\n",
              "    .dataframe thead th {\n",
              "        text-align: right;\n",
              "    }\n",
              "</style>\n",
              "<table border=\"1\" class=\"dataframe\">\n",
              "  <thead>\n",
              "    <tr style=\"text-align: right;\">\n",
              "      <th></th>\n",
              "      <th>Cluster</th>\n",
              "      <th>household_id</th>\n",
              "      <th>person_id</th>\n",
              "      <th>gender</th>\n",
              "      <th>age_bucket</th>\n",
              "      <th>demo</th>\n",
              "      <th>race</th>\n",
              "      <th>channel_id</th>\n",
              "      <th>device_type</th>\n",
              "      <th>genre_id</th>\n",
              "      <th>daypart_id</th>\n",
              "    </tr>\n",
              "  </thead>\n",
              "  <tbody>\n",
              "    <tr>\n",
              "      <th>10286</th>\n",
              "      <td>3</td>\n",
              "      <td>282</td>\n",
              "      <td>666</td>\n",
              "      <td>M</td>\n",
              "      <td>02_12</td>\n",
              "      <td>M:02_12</td>\n",
              "      <td>White</td>\n",
              "      <td>2</td>\n",
              "      <td>Fire OS</td>\n",
              "      <td>0</td>\n",
              "      <td>Non_PrimeTime_WD</td>\n",
              "    </tr>\n",
              "    <tr>\n",
              "      <th>5122</th>\n",
              "      <td>3</td>\n",
              "      <td>41</td>\n",
              "      <td>787</td>\n",
              "      <td>M</td>\n",
              "      <td>02_12</td>\n",
              "      <td>M:02_12</td>\n",
              "      <td>White</td>\n",
              "      <td>2</td>\n",
              "      <td>Fire OS</td>\n",
              "      <td>16</td>\n",
              "      <td>Non_PrimeTime_WE</td>\n",
              "    </tr>\n",
              "    <tr>\n",
              "      <th>18498</th>\n",
              "      <td>0</td>\n",
              "      <td>221</td>\n",
              "      <td>554</td>\n",
              "      <td>F</td>\n",
              "      <td>02_12</td>\n",
              "      <td>F:02_12</td>\n",
              "      <td>White</td>\n",
              "      <td>2</td>\n",
              "      <td>Fire OS</td>\n",
              "      <td>5</td>\n",
              "      <td>Non_PrimeTime_WD</td>\n",
              "    </tr>\n",
              "    <tr>\n",
              "      <th>8348</th>\n",
              "      <td>3</td>\n",
              "      <td>332</td>\n",
              "      <td>785</td>\n",
              "      <td>M</td>\n",
              "      <td>02_12</td>\n",
              "      <td>M:02_12</td>\n",
              "      <td>White</td>\n",
              "      <td>2</td>\n",
              "      <td>Fire OS</td>\n",
              "      <td>5</td>\n",
              "      <td>Non_PrimeTime_WE</td>\n",
              "    </tr>\n",
              "    <tr>\n",
              "      <th>18487</th>\n",
              "      <td>2</td>\n",
              "      <td>142</td>\n",
              "      <td>128</td>\n",
              "      <td>F</td>\n",
              "      <td>02_12</td>\n",
              "      <td>F:02_12</td>\n",
              "      <td>Black</td>\n",
              "      <td>2</td>\n",
              "      <td>Fire OS</td>\n",
              "      <td>16</td>\n",
              "      <td>Non_PrimeTime_WD</td>\n",
              "    </tr>\n",
              "    <tr>\n",
              "      <th>...</th>\n",
              "      <td>...</td>\n",
              "      <td>...</td>\n",
              "      <td>...</td>\n",
              "      <td>...</td>\n",
              "      <td>...</td>\n",
              "      <td>...</td>\n",
              "      <td>...</td>\n",
              "      <td>...</td>\n",
              "      <td>...</td>\n",
              "      <td>...</td>\n",
              "      <td>...</td>\n",
              "    </tr>\n",
              "    <tr>\n",
              "      <th>35862</th>\n",
              "      <td>4</td>\n",
              "      <td>309</td>\n",
              "      <td>610</td>\n",
              "      <td>M</td>\n",
              "      <td>65_999</td>\n",
              "      <td>M:65_999</td>\n",
              "      <td>White</td>\n",
              "      <td>2</td>\n",
              "      <td>Android</td>\n",
              "      <td>14</td>\n",
              "      <td>Non_PrimeTime_WD</td>\n",
              "    </tr>\n",
              "    <tr>\n",
              "      <th>35857</th>\n",
              "      <td>4</td>\n",
              "      <td>91</td>\n",
              "      <td>599</td>\n",
              "      <td>M</td>\n",
              "      <td>65_999</td>\n",
              "      <td>M:65_999</td>\n",
              "      <td>Japanese</td>\n",
              "      <td>2</td>\n",
              "      <td>Fire OS</td>\n",
              "      <td>14</td>\n",
              "      <td>Non_PrimeTime_WD</td>\n",
              "    </tr>\n",
              "    <tr>\n",
              "      <th>35853</th>\n",
              "      <td>4</td>\n",
              "      <td>95</td>\n",
              "      <td>585</td>\n",
              "      <td>M</td>\n",
              "      <td>65_999</td>\n",
              "      <td>M:65_999</td>\n",
              "      <td>White</td>\n",
              "      <td>2</td>\n",
              "      <td>Fire OS</td>\n",
              "      <td>13</td>\n",
              "      <td>PrimeTime_WD</td>\n",
              "    </tr>\n",
              "    <tr>\n",
              "      <th>33572</th>\n",
              "      <td>5</td>\n",
              "      <td>131</td>\n",
              "      <td>432</td>\n",
              "      <td>F</td>\n",
              "      <td>65_999</td>\n",
              "      <td>F:65_999</td>\n",
              "      <td>White</td>\n",
              "      <td>2</td>\n",
              "      <td>Android</td>\n",
              "      <td>4</td>\n",
              "      <td>PrimeTime_WD</td>\n",
              "    </tr>\n",
              "    <tr>\n",
              "      <th>11099</th>\n",
              "      <td>4</td>\n",
              "      <td>166</td>\n",
              "      <td>435</td>\n",
              "      <td>M</td>\n",
              "      <td>65_999</td>\n",
              "      <td>M:65_999</td>\n",
              "      <td>White</td>\n",
              "      <td>2</td>\n",
              "      <td>Fire OS</td>\n",
              "      <td>3</td>\n",
              "      <td>Non_PrimeTime_WD</td>\n",
              "    </tr>\n",
              "  </tbody>\n",
              "</table>\n",
              "<p>37525 rows × 11 columns</p>\n",
              "</div>\n",
              "      <button class=\"colab-df-convert\" onclick=\"convertToInteractive('df-e5b7a5a2-bf5e-4cd8-aeb2-d4e2d4a01c97')\"\n",
              "              title=\"Convert this dataframe to an interactive table.\"\n",
              "              style=\"display:none;\">\n",
              "        \n",
              "  <svg xmlns=\"http://www.w3.org/2000/svg\" height=\"24px\"viewBox=\"0 0 24 24\"\n",
              "       width=\"24px\">\n",
              "    <path d=\"M0 0h24v24H0V0z\" fill=\"none\"/>\n",
              "    <path d=\"M18.56 5.44l.94 2.06.94-2.06 2.06-.94-2.06-.94-.94-2.06-.94 2.06-2.06.94zm-11 1L8.5 8.5l.94-2.06 2.06-.94-2.06-.94L8.5 2.5l-.94 2.06-2.06.94zm10 10l.94 2.06.94-2.06 2.06-.94-2.06-.94-.94-2.06-.94 2.06-2.06.94z\"/><path d=\"M17.41 7.96l-1.37-1.37c-.4-.4-.92-.59-1.43-.59-.52 0-1.04.2-1.43.59L10.3 9.45l-7.72 7.72c-.78.78-.78 2.05 0 2.83L4 21.41c.39.39.9.59 1.41.59.51 0 1.02-.2 1.41-.59l7.78-7.78 2.81-2.81c.8-.78.8-2.07 0-2.86zM5.41 20L4 18.59l7.72-7.72 1.47 1.35L5.41 20z\"/>\n",
              "  </svg>\n",
              "      </button>\n",
              "      \n",
              "  <style>\n",
              "    .colab-df-container {\n",
              "      display:flex;\n",
              "      flex-wrap:wrap;\n",
              "      gap: 12px;\n",
              "    }\n",
              "\n",
              "    .colab-df-convert {\n",
              "      background-color: #E8F0FE;\n",
              "      border: none;\n",
              "      border-radius: 50%;\n",
              "      cursor: pointer;\n",
              "      display: none;\n",
              "      fill: #1967D2;\n",
              "      height: 32px;\n",
              "      padding: 0 0 0 0;\n",
              "      width: 32px;\n",
              "    }\n",
              "\n",
              "    .colab-df-convert:hover {\n",
              "      background-color: #E2EBFA;\n",
              "      box-shadow: 0px 1px 2px rgba(60, 64, 67, 0.3), 0px 1px 3px 1px rgba(60, 64, 67, 0.15);\n",
              "      fill: #174EA6;\n",
              "    }\n",
              "\n",
              "    [theme=dark] .colab-df-convert {\n",
              "      background-color: #3B4455;\n",
              "      fill: #D2E3FC;\n",
              "    }\n",
              "\n",
              "    [theme=dark] .colab-df-convert:hover {\n",
              "      background-color: #434B5C;\n",
              "      box-shadow: 0px 1px 3px 1px rgba(0, 0, 0, 0.15);\n",
              "      filter: drop-shadow(0px 1px 2px rgba(0, 0, 0, 0.3));\n",
              "      fill: #FFFFFF;\n",
              "    }\n",
              "  </style>\n",
              "\n",
              "      <script>\n",
              "        const buttonEl =\n",
              "          document.querySelector('#df-e5b7a5a2-bf5e-4cd8-aeb2-d4e2d4a01c97 button.colab-df-convert');\n",
              "        buttonEl.style.display =\n",
              "          google.colab.kernel.accessAllowed ? 'block' : 'none';\n",
              "\n",
              "        async function convertToInteractive(key) {\n",
              "          const element = document.querySelector('#df-e5b7a5a2-bf5e-4cd8-aeb2-d4e2d4a01c97');\n",
              "          const dataTable =\n",
              "            await google.colab.kernel.invokeFunction('convertToInteractive',\n",
              "                                                     [key], {});\n",
              "          if (!dataTable) return;\n",
              "\n",
              "          const docLinkHtml = 'Like what you see? Visit the ' +\n",
              "            '<a target=\"_blank\" href=https://colab.research.google.com/notebooks/data_table.ipynb>data table notebook</a>'\n",
              "            + ' to learn more about interactive tables.';\n",
              "          element.innerHTML = '';\n",
              "          dataTable['output_type'] = 'display_data';\n",
              "          await google.colab.output.renderOutput(dataTable, element);\n",
              "          const docLink = document.createElement('div');\n",
              "          docLink.innerHTML = docLinkHtml;\n",
              "          element.appendChild(docLink);\n",
              "        }\n",
              "      </script>\n",
              "    </div>\n",
              "  </div>\n",
              "  "
            ]
          },
          "metadata": {},
          "execution_count": 38
        }
      ]
    },
    {
      "cell_type": "markdown",
      "source": [
        "# Conclusion:\n",
        "A K modes model is used to cluster Ads viewing on different platform, 12 clusters were selected to group different ads viewing events. Features such as 'gender','age',view_time, 'race','house_id','person_id' are used to make the cluster model. "
      ],
      "metadata": {
        "id": "9xThrRvJNkfi"
      }
    },
    {
      "cell_type": "code",
      "source": [
        "df3['Cluster'].value_counts().plot(kind='barh')\n",
        "# The distribution of each clusters is reflected below"
      ],
      "metadata": {
        "colab": {
          "base_uri": "https://localhost:8080/",
          "height": 282
        },
        "id": "gi_z68kUPh7X",
        "outputId": "0ca86732-3373-4da4-ef6e-d118bc2cd11f"
      },
      "execution_count": null,
      "outputs": [
        {
          "output_type": "execute_result",
          "data": {
            "text/plain": [
              "<matplotlib.axes._subplots.AxesSubplot at 0x7f58e7959a90>"
            ]
          },
          "metadata": {},
          "execution_count": 39
        },
        {
          "output_type": "display_data",
          "data": {
            "text/plain": [
              "<Figure size 432x288 with 1 Axes>"
            ],
            "image/png": "[encoded data removed]"
          },
          "metadata": {
            "needs_background": "light"
          }
        }
      ]
    },
    {
      "cell_type": "code",
      "source": [
        "df3['Cluster'].value_counts(normalize=True).plot(kind='pie',autopct='%1.1f%%',fontsize=10)"
      ],
      "metadata": {
        "colab": {
          "base_uri": "https://localhost:8080/",
          "height": 265
        },
        "id": "6Kh77kAnSFWH",
        "outputId": "5746e862-0a79-46dc-e81b-b6f9f3d5b9ec"
      },
      "execution_count": null,
      "outputs": [
        {
          "output_type": "execute_result",
          "data": {
            "text/plain": [
              "<matplotlib.axes._subplots.AxesSubplot at 0x7f58a0b2cd10>"
            ]
          },
          "metadata": {},
          "execution_count": 151
        },
        {
          "output_type": "display_data",
          "data": {
            "text/plain": [
              "<Figure size 432x288 with 1 Axes>"
            ],
            "image/png": "[encoded data removed]"
          },
          "metadata": {}
        }
      ]
    },
    {
      "cell_type": "code",
      "source": [
        "df3['daypart_id'].value_counts(normalize=True).plot(kind='pie',autopct='%1.1f%%',fontsize=10)"
      ],
      "metadata": {
        "colab": {
          "base_uri": "https://localhost:8080/",
          "height": 265
        },
        "id": "K-qM0yNNUV2I",
        "outputId": "6b4aaf80-4196-4ce6-8dd0-06d2c742988c"
      },
      "execution_count": null,
      "outputs": [
        {
          "output_type": "execute_result",
          "data": {
            "text/plain": [
              "<matplotlib.axes._subplots.AxesSubplot at 0x7f58a09e8bd0>"
            ]
          },
          "metadata": {},
          "execution_count": 158
        },
        {
          "output_type": "display_data",
          "data": {
            "text/plain": [
              "<Figure size 432x288 with 1 Axes>"
            ],
            "image/png": "[encoded data removed]"
          },
          "metadata": {}
        }
      ]
    },
    {
      "cell_type": "code",
      "source": [
        "df3['age_bucket'].value_counts(normalize=True).plot(kind='pie',autopct='%1.1f%%',fontsize=10)\n",
        "plt.ylabel(\"age_bucket\", labelpad=20)\n"
      ],
      "metadata": {
        "colab": {
          "base_uri": "https://localhost:8080/",
          "height": 265
        },
        "id": "2EZYBqJiV_Sj",
        "outputId": "8409f979-a4f8-4d69-eb11-3a5d00ea02de"
      },
      "execution_count": null,
      "outputs": [
        {
          "output_type": "execute_result",
          "data": {
            "text/plain": [
              "Text(0, 0.5, 'age_bucket')"
            ]
          },
          "metadata": {},
          "execution_count": 181
        },
        {
          "output_type": "display_data",
          "data": {
            "text/plain": [
              "<Figure size 432x288 with 1 Axes>"
            ],
            "image/png": "[encoded data removed]"
          },
          "metadata": {}
        }
      ]
    },
    {
      "cell_type": "code",
      "source": [
        "df4=df3[df3[\"Cluster\"]==4]\n",
        "df4.tail(5)"
      ],
      "metadata": {
        "colab": {
          "base_uri": "https://localhost:8080/",
          "height": 270
        },
        "id": "NZFbrA2OU16N",
        "outputId": "68a6f98f-7488-40d1-f4cf-9c4399ddfca7"
      },
      "execution_count": null,
      "outputs": [
        {
          "output_type": "execute_result",
          "data": {
            "text/plain": [
              "       Cluster  household_id  person_id gender age_bucket      demo      race  \\\n",
              "19243        4           229        501      M     65_999  M:65_999     White   \n",
              "35862        4           309        610      M     65_999  M:65_999     White   \n",
              "35857        4            91        599      M     65_999  M:65_999  Japanese   \n",
              "35853        4            95        585      M     65_999  M:65_999     White   \n",
              "11099        4           166        435      M     65_999  M:65_999     White   \n",
              "\n",
              "       channel_id device_type  genre_id        daypart_id  \n",
              "19243           2     Fire OS        14  Non_PrimeTime_WD  \n",
              "35862           2     Android        14  Non_PrimeTime_WD  \n",
              "35857           2     Fire OS        14  Non_PrimeTime_WD  \n",
              "35853           2     Fire OS        13      PrimeTime_WD  \n",
              "11099           2     Fire OS         3  Non_PrimeTime_WD  "
            ],
            "text/html": [
              "\n",
              "  <div id=\"df-3e51cc21-bc66-48a1-ac00-d6b573923eb6\">\n",
              "    <div class=\"colab-df-container\">\n",
              "      <div>\n",
              "<style scoped>\n",
              "    .dataframe tbody tr th:only-of-type {\n",
              "        vertical-align: middle;\n",
              "    }\n",
              "\n",
              "    .dataframe tbody tr th {\n",
              "        vertical-align: top;\n",
              "    }\n",
              "\n",
              "    .dataframe thead th {\n",
              "        text-align: right;\n",
              "    }\n",
              "</style>\n",
              "<table border=\"1\" class=\"dataframe\">\n",
              "  <thead>\n",
              "    <tr style=\"text-align: right;\">\n",
              "      <th></th>\n",
              "      <th>Cluster</th>\n",
              "      <th>household_id</th>\n",
              "      <th>person_id</th>\n",
              "      <th>gender</th>\n",
              "      <th>age_bucket</th>\n",
              "      <th>demo</th>\n",
              "      <th>race</th>\n",
              "      <th>channel_id</th>\n",
              "      <th>device_type</th>\n",
              "      <th>genre_id</th>\n",
              "      <th>daypart_id</th>\n",
              "    </tr>\n",
              "  </thead>\n",
              "  <tbody>\n",
              "    <tr>\n",
              "      <th>19243</th>\n",
              "      <td>4</td>\n",
              "      <td>229</td>\n",
              "      <td>501</td>\n",
              "      <td>M</td>\n",
              "      <td>65_999</td>\n",
              "      <td>M:65_999</td>\n",
              "      <td>White</td>\n",
              "      <td>2</td>\n",
              "      <td>Fire OS</td>\n",
              "      <td>14</td>\n",
              "      <td>Non_PrimeTime_WD</td>\n",
              "    </tr>\n",
              "    <tr>\n",
              "      <th>35862</th>\n",
              "      <td>4</td>\n",
              "      <td>309</td>\n",
              "      <td>610</td>\n",
              "      <td>M</td>\n",
              "      <td>65_999</td>\n",
              "      <td>M:65_999</td>\n",
              "      <td>White</td>\n",
              "      <td>2</td>\n",
              "      <td>Android</td>\n",
              "      <td>14</td>\n",
              "      <td>Non_PrimeTime_WD</td>\n",
              "    </tr>\n",
              "    <tr>\n",
              "      <th>35857</th>\n",
              "      <td>4</td>\n",
              "      <td>91</td>\n",
              "      <td>599</td>\n",
              "      <td>M</td>\n",
              "      <td>65_999</td>\n",
              "      <td>M:65_999</td>\n",
              "      <td>Japanese</td>\n",
              "      <td>2</td>\n",
              "      <td>Fire OS</td>\n",
              "      <td>14</td>\n",
              "      <td>Non_PrimeTime_WD</td>\n",
              "    </tr>\n",
              "    <tr>\n",
              "      <th>35853</th>\n",
              "      <td>4</td>\n",
              "      <td>95</td>\n",
              "      <td>585</td>\n",
              "      <td>M</td>\n",
              "      <td>65_999</td>\n",
              "      <td>M:65_999</td>\n",
              "      <td>White</td>\n",
              "      <td>2</td>\n",
              "      <td>Fire OS</td>\n",
              "      <td>13</td>\n",
              "      <td>PrimeTime_WD</td>\n",
              "    </tr>\n",
              "    <tr>\n",
              "      <th>11099</th>\n",
              "      <td>4</td>\n",
              "      <td>166</td>\n",
              "      <td>435</td>\n",
              "      <td>M</td>\n",
              "      <td>65_999</td>\n",
              "      <td>M:65_999</td>\n",
              "      <td>White</td>\n",
              "      <td>2</td>\n",
              "      <td>Fire OS</td>\n",
              "      <td>3</td>\n",
              "      <td>Non_PrimeTime_WD</td>\n",
              "    </tr>\n",
              "  </tbody>\n",
              "</table>\n",
              "</div>\n",
              "      <button class=\"colab-df-convert\" onclick=\"convertToInteractive('df-3e51cc21-bc66-48a1-ac00-d6b573923eb6')\"\n",
              "              title=\"Convert this dataframe to an interactive table.\"\n",
              "              style=\"display:none;\">\n",
              "        \n",
              "  <svg xmlns=\"http://www.w3.org/2000/svg\" height=\"24px\"viewBox=\"0 0 24 24\"\n",
              "       width=\"24px\">\n",
              "    <path d=\"M0 0h24v24H0V0z\" fill=\"none\"/>\n",
              "    <path d=\"M18.56 5.44l.94 2.06.94-2.06 2.06-.94-2.06-.94-.94-2.06-.94 2.06-2.06.94zm-11 1L8.5 8.5l.94-2.06 2.06-.94-2.06-.94L8.5 2.5l-.94 2.06-2.06.94zm10 10l.94 2.06.94-2.06 2.06-.94-2.06-.94-.94-2.06-.94 2.06-2.06.94z\"/><path d=\"M17.41 7.96l-1.37-1.37c-.4-.4-.92-.59-1.43-.59-.52 0-1.04.2-1.43.59L10.3 9.45l-7.72 7.72c-.78.78-.78 2.05 0 2.83L4 21.41c.39.39.9.59 1.41.59.51 0 1.02-.2 1.41-.59l7.78-7.78 2.81-2.81c.8-.78.8-2.07 0-2.86zM5.41 20L4 18.59l7.72-7.72 1.47 1.35L5.41 20z\"/>\n",
              "  </svg>\n",
              "      </button>\n",
              "      \n",
              "  <style>\n",
              "    .colab-df-container {\n",
              "      display:flex;\n",
              "      flex-wrap:wrap;\n",
              "      gap: 12px;\n",
              "    }\n",
              "\n",
              "    .colab-df-convert {\n",
              "      background-color: #E8F0FE;\n",
              "      border: none;\n",
              "      border-radius: 50%;\n",
              "      cursor: pointer;\n",
              "      display: none;\n",
              "      fill: #1967D2;\n",
              "      height: 32px;\n",
              "      padding: 0 0 0 0;\n",
              "      width: 32px;\n",
              "    }\n",
              "\n",
              "    .colab-df-convert:hover {\n",
              "      background-color: #E2EBFA;\n",
              "      box-shadow: 0px 1px 2px rgba(60, 64, 67, 0.3), 0px 1px 3px 1px rgba(60, 64, 67, 0.15);\n",
              "      fill: #174EA6;\n",
              "    }\n",
              "\n",
              "    [theme=dark] .colab-df-convert {\n",
              "      background-color: #3B4455;\n",
              "      fill: #D2E3FC;\n",
              "    }\n",
              "\n",
              "    [theme=dark] .colab-df-convert:hover {\n",
              "      background-color: #434B5C;\n",
              "      box-shadow: 0px 1px 3px 1px rgba(0, 0, 0, 0.15);\n",
              "      filter: drop-shadow(0px 1px 2px rgba(0, 0, 0, 0.3));\n",
              "      fill: #FFFFFF;\n",
              "    }\n",
              "  </style>\n",
              "\n",
              "      <script>\n",
              "        const buttonEl =\n",
              "          document.querySelector('#df-3e51cc21-bc66-48a1-ac00-d6b573923eb6 button.colab-df-convert');\n",
              "        buttonEl.style.display =\n",
              "          google.colab.kernel.accessAllowed ? 'block' : 'none';\n",
              "\n",
              "        async function convertToInteractive(key) {\n",
              "          const element = document.querySelector('#df-3e51cc21-bc66-48a1-ac00-d6b573923eb6');\n",
              "          const dataTable =\n",
              "            await google.colab.kernel.invokeFunction('convertToInteractive',\n",
              "                                                     [key], {});\n",
              "          if (!dataTable) return;\n",
              "\n",
              "          const docLinkHtml = 'Like what you see? Visit the ' +\n",
              "            '<a target=\"_blank\" href=https://colab.research.google.com/notebooks/data_table.ipynb>data table notebook</a>'\n",
              "            + ' to learn more about interactive tables.';\n",
              "          element.innerHTML = '';\n",
              "          dataTable['output_type'] = 'display_data';\n",
              "          await google.colab.output.renderOutput(dataTable, element);\n",
              "          const docLink = document.createElement('div');\n",
              "          docLink.innerHTML = docLinkHtml;\n",
              "          element.appendChild(docLink);\n",
              "        }\n",
              "      </script>\n",
              "    </div>\n",
              "  </div>\n",
              "  "
            ]
          },
          "metadata": {},
          "execution_count": 168
        }
      ]
    },
    {
      "cell_type": "code",
      "source": [
        "df4['daypart_id'].value_counts(normalize=True).plot(kind='pie',autopct='%1.1f%%',fontsize=10)"
      ],
      "metadata": {
        "colab": {
          "base_uri": "https://localhost:8080/",
          "height": 265
        },
        "id": "7WfMh_3dVgos",
        "outputId": "472facfd-5ae9-404d-ed15-a27e106a9338"
      },
      "execution_count": null,
      "outputs": [
        {
          "output_type": "execute_result",
          "data": {
            "text/plain": [
              "<matplotlib.axes._subplots.AxesSubplot at 0x7f58a087eb10>"
            ]
          },
          "metadata": {},
          "execution_count": 166
        },
        {
          "output_type": "display_data",
          "data": {
            "text/plain": [
              "<Figure size 432x288 with 1 Axes>"
            ],
            "image/png": "[encoded data removed]"
          },
          "metadata": {}
        }
      ]
    },
    {
      "cell_type": "code",
      "source": [
        "df4['age_bucket'].value_counts(normalize=True).plot(kind='pie',autopct='%1.1f%%',fontsize=10)\n",
        "plt.ylabel(\"age_bucket\", labelpad=20)\n"
      ],
      "metadata": {
        "colab": {
          "base_uri": "https://localhost:8080/",
          "height": 265
        },
        "id": "K75Hu3MVGUP3",
        "outputId": "5551d9cd-d394-4a5d-b898-90677c30abee"
      },
      "execution_count": null,
      "outputs": [
        {
          "output_type": "execute_result",
          "data": {
            "text/plain": [
              "Text(0, 0.5, 'age_bucket')"
            ]
          },
          "metadata": {},
          "execution_count": 183
        },
        {
          "output_type": "display_data",
          "data": {
            "text/plain": [
              "<Figure size 432x288 with 1 Axes>"
            ],
            "image/png": "[encoded data removed]"
          },
          "metadata": {}
        }
      ]
    },
    {
      "cell_type": "code",
      "source": [
        "groupby_age = df3.groupby([\"Cluster\"]).age_bucket.value_counts(normalize=True)\n",
        "groupby_age"
      ],
      "metadata": {
        "colab": {
          "base_uri": "https://localhost:8080/"
        },
        "id": "yYkc-QwTJHIi",
        "outputId": "f58c8c2a-f556-4fee-dead-01c4679abedb"
      },
      "execution_count": null,
      "outputs": [
        {
          "output_type": "execute_result",
          "data": {
            "text/plain": [
              "Cluster  age_bucket\n",
              "0        50_54        0.509\n",
              "         40_44        0.144\n",
              "         45_49        0.120\n",
              "         25_29        0.066\n",
              "         35_39        0.043\n",
              "         02_12        0.040\n",
              "         30_34        0.028\n",
              "         13_17        0.022\n",
              "         18_20        0.016\n",
              "         65_999       0.005\n",
              "         21_24        0.004\n",
              "         55_64        0.003\n",
              "1        45_49        0.637\n",
              "         40_44        0.118\n",
              "         02_12        0.052\n",
              "         35_39        0.044\n",
              "         50_54        0.040\n",
              "         13_17        0.025\n",
              "         65_999       0.025\n",
              "         55_64        0.021\n",
              "         21_24        0.017\n",
              "         25_29        0.013\n",
              "         18_20        0.008\n",
              "         30_34        0.001\n",
              "2        25_29        0.697\n",
              "         40_44        0.098\n",
              "         02_12        0.079\n",
              "         21_24        0.065\n",
              "         50_54        0.020\n",
              "         35_39        0.019\n",
              "         18_20        0.008\n",
              "         55_64        0.006\n",
              "         13_17        0.005\n",
              "         30_34        0.001\n",
              "         45_49        0.001\n",
              "3        02_12        0.258\n",
              "         35_39        0.179\n",
              "         50_54        0.137\n",
              "         40_44        0.122\n",
              "         45_49        0.092\n",
              "         25_29        0.060\n",
              "         55_64        0.050\n",
              "         13_17        0.034\n",
              "         30_34        0.034\n",
              "         65_999       0.017\n",
              "         21_24        0.009\n",
              "         18_20        0.007\n",
              "4        65_999       0.467\n",
              "         55_64        0.218\n",
              "         35_39        0.085\n",
              "         50_54        0.053\n",
              "         30_34        0.044\n",
              "         40_44        0.035\n",
              "         45_49        0.035\n",
              "         13_17        0.021\n",
              "         21_24        0.021\n",
              "         25_29        0.014\n",
              "         18_20        0.005\n",
              "5        65_999       0.907\n",
              "         40_44        0.036\n",
              "         02_12        0.027\n",
              "         30_34        0.014\n",
              "         18_20        0.008\n",
              "         13_17        0.005\n",
              "         21_24        0.002\n",
              "         35_39        0.002\n",
              "6        50_54        0.738\n",
              "         55_64        0.100\n",
              "         40_44        0.069\n",
              "         02_12        0.062\n",
              "         13_17        0.011\n",
              "         45_49        0.008\n",
              "         35_39        0.006\n",
              "         18_20        0.005\n",
              "         21_24        0.001\n",
              "7        55_64        0.630\n",
              "         40_44        0.069\n",
              "         65_999       0.061\n",
              "         45_49        0.041\n",
              "         35_39        0.039\n",
              "         30_34        0.036\n",
              "         25_29        0.035\n",
              "         18_20        0.029\n",
              "         13_17        0.025\n",
              "         21_24        0.018\n",
              "         50_54        0.017\n",
              "8        55_64        1.000\n",
              "9        35_39        0.865\n",
              "         40_44        0.084\n",
              "         21_24        0.021\n",
              "         02_12        0.014\n",
              "         25_29        0.007\n",
              "         13_17        0.005\n",
              "         18_20        0.005\n",
              "10       30_34        0.892\n",
              "         40_44        0.037\n",
              "         02_12        0.022\n",
              "         18_20        0.017\n",
              "         21_24        0.011\n",
              "         35_39        0.011\n",
              "         13_17        0.005\n",
              "         25_29        0.005\n",
              "11       30_34        0.479\n",
              "         45_49        0.108\n",
              "         50_54        0.107\n",
              "         40_44        0.105\n",
              "         13_17        0.048\n",
              "         35_39        0.035\n",
              "         55_64        0.033\n",
              "         02_12        0.026\n",
              "         18_20        0.025\n",
              "         65_999       0.023\n",
              "         21_24        0.008\n",
              "         25_29        0.002\n",
              "Name: age_bucket, dtype: float64"
            ]
          },
          "metadata": {},
          "execution_count": 113
        }
      ]
    },
    {
      "cell_type": "code",
      "source": [
        "groupby_gender = df3.groupby([\"Cluster\"]).gender.value_counts(normalize=True)\n",
        "groupby_gender"
      ],
      "metadata": {
        "colab": {
          "base_uri": "https://localhost:8080/"
        },
        "id": "zljd_KRzl_tt",
        "outputId": "9a590618-2b90-4035-be70-71bd70d6f36a"
      },
      "execution_count": null,
      "outputs": [
        {
          "output_type": "execute_result",
          "data": {
            "text/plain": [
              "Cluster  gender\n",
              "0        F        0.705\n",
              "         M        0.295\n",
              "1        F        0.819\n",
              "         M        0.181\n",
              "2        F        0.773\n",
              "         M        0.227\n",
              "3        M        0.952\n",
              "         F        0.048\n",
              "4        M        1.000\n",
              "5        F        1.000\n",
              "6        F        0.861\n",
              "         M        0.139\n",
              "7        M        0.808\n",
              "         F        0.192\n",
              "8        F        1.000\n",
              "9        F        0.917\n",
              "         M        0.083\n",
              "10       F        0.943\n",
              "         M        0.057\n",
              "11       M        0.845\n",
              "         F        0.155\n",
              "Name: gender, dtype: float64"
            ]
          },
          "metadata": {},
          "execution_count": 184
        }
      ]
    },
    {
      "cell_type": "code",
      "source": [
        "groupby_daypart = df3.groupby([\"Cluster\"]).daypart_id.value_counts(normalize=True)\n",
        "groupby_daypart"
      ],
      "metadata": {
        "colab": {
          "base_uri": "https://localhost:8080/"
        },
        "id": "EgyEp9NCmISr",
        "outputId": "ee995d41-5522-4642-9417-0eb8be10a07c"
      },
      "execution_count": null,
      "outputs": [
        {
          "output_type": "execute_result",
          "data": {
            "text/plain": [
              "Cluster  daypart_id      \n",
              "0        Non_PrimeTime_WD   0.652\n",
              "         Non_PrimeTime_WE   0.150\n",
              "         PrimeTime_WD       0.125\n",
              "         PrimeTime_WE       0.074\n",
              "1        PrimeTime_WD       0.489\n",
              "         Non_PrimeTime_WD   0.254\n",
              "         Non_PrimeTime_WE   0.168\n",
              "         PrimeTime_WE       0.088\n",
              "2        Non_PrimeTime_WD   0.711\n",
              "         Non_PrimeTime_WE   0.119\n",
              "         PrimeTime_WE       0.106\n",
              "         PrimeTime_WD       0.064\n",
              "3        Non_PrimeTime_WE   0.556\n",
              "         PrimeTime_WD       0.186\n",
              "         Non_PrimeTime_WD   0.157\n",
              "         PrimeTime_WE       0.101\n",
              "4        Non_PrimeTime_WD   0.703\n",
              "         Non_PrimeTime_WE   0.142\n",
              "         PrimeTime_WD       0.106\n",
              "         PrimeTime_WE       0.050\n",
              "5        Non_PrimeTime_WD   0.482\n",
              "         Non_PrimeTime_WE   0.229\n",
              "         PrimeTime_WD       0.196\n",
              "         PrimeTime_WE       0.093\n",
              "6        Non_PrimeTime_WE   0.643\n",
              "         Non_PrimeTime_WD   0.229\n",
              "         PrimeTime_WD       0.070\n",
              "         PrimeTime_WE       0.059\n",
              "7        Non_PrimeTime_WE   0.537\n",
              "         PrimeTime_WD       0.214\n",
              "         PrimeTime_WE       0.126\n",
              "         Non_PrimeTime_WD   0.123\n",
              "8        Non_PrimeTime_WD   0.452\n",
              "         Non_PrimeTime_WE   0.225\n",
              "         PrimeTime_WD       0.211\n",
              "         PrimeTime_WE       0.112\n",
              "9        Non_PrimeTime_WE   0.486\n",
              "         Non_PrimeTime_WD   0.216\n",
              "         PrimeTime_WD       0.208\n",
              "         PrimeTime_WE       0.090\n",
              "10       Non_PrimeTime_WE   0.493\n",
              "         Non_PrimeTime_WD   0.225\n",
              "         PrimeTime_WD       0.195\n",
              "         PrimeTime_WE       0.086\n",
              "11       PrimeTime_WD       0.707\n",
              "         Non_PrimeTime_WD   0.158\n",
              "         PrimeTime_WE       0.099\n",
              "         Non_PrimeTime_WE   0.036\n",
              "Name: daypart_id, dtype: float64"
            ]
          },
          "metadata": {},
          "execution_count": 185
        }
      ]
    },
    {
      "cell_type": "markdown",
      "source": [
        "#Q4 When it will be a good idea to combine categories within a feature?\n",
        "Such as combine Primetime_WE and Primetime_WD into Primetime \n",
        "\n",
        "When can it benefit the model?\n",
        "\n",
        "When can it harm the model?\n"
      ],
      "metadata": {
        "id": "6ekAAOfEu6HP"
      }
    },
    {
      "cell_type": "markdown",
      "source": [
        "\n",
        "Whether to combine categories depends on what insights we want to pull out of the dataset. \n",
        "\n",
        "*   If we want to see the differeces between Primetime View Count and Non_Primetime View Count, aggregate Primetime_WE with Primetime_WD to Primetime, and aggregate Non_Primetime_WE with Non_Primetime_WD to Non_Primetime would be a good idea.\n",
        "*   If we want to see the differeces between Weekday View Count and Weekend View Count, aggregate Primetime_WE with Non_Primetime_WE to WE(Weekend), and aggregate Primetime_WD with Non_Primetime_WD to WD(Weekday) would be a good idea.\n",
        "\n",
        "*   Combining all 4 categories together may not help, as there will be no difference between datapoints\n",
        "\n",
        "*  If certain groups behave the same way or to some extend similar, combing them together will be beneficial, such as combine age 2-12 with age 13-24 together as age 2-25, this may reduce the model complexity, reduce computing time and  reduce the chance of overfit.\n",
        "\n",
        "\n",
        "*   However, combing categories may also yield a risk of higher error rate and model underfit. Information between differnt categories may be lost as well.\n",
        "\n",
        "\n",
        "\n",
        "\n",
        "\n",
        "\n",
        "\n"
      ],
      "metadata": {
        "id": "49XnX9Bg4PuQ"
      }
    },
    {
      "cell_type": "markdown",
      "source": [
        "#Further thoughts:"
      ],
      "metadata": {
        "id": "PnnbfgoXNgdb"
      }
    },
    {
      "cell_type": "markdown",
      "source": [
        "During building the K modes model, there is no way for me to use the result from K modes to make a predicton, maybe we can try to train a classifier model on the clustered data. Then use the classifier to predict on the new data. A KNN model can be used after labelling the data. This idea is generated based on the following paper\n",
        "[Combining supervised and unsupervised machine learning algorithms to predict the learners’ learning styles](https://www.sciencedirect.com/science/article/pii/S1877050919300122?ref=pdf_download&fr=RR-2&rr=72399cf68c2e304d)"
      ],
      "metadata": {
        "id": "42zk5YusOMnH"
      }
    },
    {
      "cell_type": "markdown",
      "source": [
        "![image.png](data:image/png;base64,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)"
      ],
      "metadata": {
        "id": "fFCclrw6Dgd9"
      }
    }
  ]
}